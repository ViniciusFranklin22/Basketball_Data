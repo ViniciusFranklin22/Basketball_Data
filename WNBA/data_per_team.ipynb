{
 "cells": [
  {
   "cell_type": "code",
   "execution_count": 13,
   "id": "9b1549ee",
   "metadata": {},
   "outputs": [],
   "source": [
    "import pandas as pd\n",
    "import plotly.express as px\n",
    "import plotly.graph_objects as go\n",
    "import json\n",
    "import time\n",
    "import math\n",
    "from pathlib import Path "
   ]
  },
  {
   "cell_type": "code",
   "execution_count": 14,
   "id": "e197bae6",
   "metadata": {},
   "outputs": [],
   "source": [
    "pd.set_option('display.max_columns',None)\n",
    "data = pd.read_csv('wnba_data_set.csv')\n",
    "# valores nulos\n",
    "data.isna().sum()\n",
    "#limpa valores nulos\n",
    "data = data.fillna(value=0)"
   ]
  },
  {
   "cell_type": "code",
   "execution_count": 15,
   "id": "6ccfc2da",
   "metadata": {},
   "outputs": [
    {
     "data": {
      "text/plain": [
       "Index(['SEASON', 'SEASON_TYPE', 'PLAYER_ID', 'RANK', 'PLAYER', 'TEAM_ID',\n",
       "       'TEAM', 'GP', 'MIN', 'FGM', 'FGA', 'FG_PCT', 'FG3M', 'FG3A', 'FG3_PCT',\n",
       "       'FTM', 'FTA', 'FT_PCT', 'OREB', 'DREB', 'REB', 'AST', 'STL', 'BLK',\n",
       "       'TOV', 'PF', 'PTS', 'EFF', 'AST_TOV', 'STL_TOV'],\n",
       "      dtype='object')"
      ]
     },
     "execution_count": 15,
     "metadata": {},
     "output_type": "execute_result"
    }
   ],
   "source": [
    "data.columns"
   ]
  },
  {
   "cell_type": "code",
   "execution_count": 16,
   "id": "1240c214",
   "metadata": {},
   "outputs": [],
   "source": [
    "data = data.drop(columns = [\"RANK\",\"EFF\"])\n"
   ]
  },
  {
   "cell_type": "code",
   "execution_count": 17,
   "id": "b2381de5",
   "metadata": {},
   "outputs": [
    {
     "name": "stdout",
     "output_type": "stream",
     "text": [
      "Finished in 0.3029208183288574\n"
     ]
    }
   ],
   "source": [
    "# per game, using the parameter created in the nba file\n",
    "\n",
    "total_cols = [\"GP\",'MIN',\"FGM\",\"FGA\",\"FG3M\",\"FG3A\",'FTM',\"FTA\",\"OREB\",\"DREB\",\"REB\",\n",
    "              \"AST\",\"STL\",\"BLK\",\"TOV\",\"PF\",\"PTS\",'PLAYERS']\n",
    "data[\"PLAYERS\"] = 1\n",
    "datas = list(data['SEASON'].unique())\n",
    "wnba_data_per_team_by_reg_season = pd.DataFrame(columns=total_cols)\n",
    "time_st = time.time()\n",
    "for date in datas:\n",
    "    temp_table = data[(data['SEASON']==date)&(data['SEASON_TYPE']=='Regular%20Season')].groupby(['TEAM'])[total_cols].sum().reset_index()\n",
    "    temp_table[\"POSSETIONS\"] = temp_table[\"FGA\"] - temp_table[\"OREB\"] + temp_table[\"TOV\"] + 0.44*temp_table[\"FTA\"]\n",
    "    temp_table = temp_table[list(temp_table.columns[0:-2])+['POSSETIONS']+[\"PLAYERS\"]]\n",
    "    temp_table['RGP'] = (temp_table[\"MIN\"]/(40*5))\n",
    "    for col in temp_table.columns[2:-2]:\n",
    "        temp_table[col] = (temp_table[col]/temp_table[\"RGP\"])\n",
    "    nm_2 = temp_table[\"POSSETIONS\"].mean()\n",
    "    temp_table[\"TIME/POSS\"] = (((temp_table[\"POSSETIONS\"]/(nm_2+temp_table[\"POSSETIONS\"]))*(temp_table[\"MIN\"]/(5)))/(temp_table[\"POSSETIONS\"]))*60\n",
    "    temp_table[\"SEASON_START_YEAR\"] = date\n",
    "    wnba_data_per_team_by_reg_season = pd.concat([wnba_data_per_team_by_reg_season,temp_table],axis=0)\n",
    "\n",
    "#there's a problem with this dataset, in the year 2003 the cleveland rockers has only one players, so this makes this team\n",
    "#you can see with this filter, data[(data['SEASON_TYPE']=='Regular%20Season') & (data[\"SEASON\"]==2003) & (data[\"TEAM\"]=='CLE')]\n",
    "#irrelevant to the analysis, it will only damage the data, so im gonna take it out in the next table\n",
    "#i will continue to exist in the data dataframe\n",
    "\n",
    "\n",
    "indexer = []\n",
    "for i in range(0,len(wnba_data_per_team_by_reg_season)):\n",
    "    indexer.append(i)\n",
    "\n",
    "wnba_data_per_team_by_reg_season[\"Index\"] = indexer\n",
    "wnba_data_per_team_by_reg_season.set_index('Index',inplace=True)\n",
    "\n",
    "wnba_data_per_team_by_reg_season[\"SEASON_START_YEAR\"] = wnba_data_per_team_by_reg_season[\"SEASON_START_YEAR\"].astype('int64')\n",
    "\n",
    "#removing row, as said before\n",
    "row_to_drop = list(wnba_data_per_team_by_reg_season[(wnba_data_per_team_by_reg_season[\"SEASON_START_YEAR\"]==2003) & (wnba_data_per_team_by_reg_season[\"TEAM\"]=='CLE')].index) \n",
    "wnba_data_per_team_by_reg_season.drop(row_to_drop,inplace=True)\n",
    "indexer.remove(row_to_drop[0])\n",
    "#reworking the indexes\n",
    "indexer = []\n",
    "for i in range(0,len(wnba_data_per_team_by_reg_season)):\n",
    "    indexer.append(i)\n",
    "\n",
    "wnba_data_per_team_by_reg_season[\"Index\"] = indexer\n",
    "wnba_data_per_team_by_reg_season.set_index('Index',inplace=True)\n",
    "\n",
    "wnba_data_per_team_by_reg_season = wnba_data_per_team_by_reg_season[[\"SEASON_START_YEAR\"]+[\"TEAM\"]+list(wnba_data_per_team_by_reg_season.columns[0:-5])+list(wnba_data_per_team_by_reg_season.columns[-4:-1])]\n",
    "wnba_data_per_team_by_reg_season[\"FG%\"] = wnba_data_per_team_by_reg_season[\"FGM\"]/wnba_data_per_team_by_reg_season[\"FGA\"]\n",
    "\n",
    "\n",
    "for x in range(0,len(wnba_data_per_team_by_reg_season)):\n",
    "    if wnba_data_per_team_by_reg_season.loc[x,\"FG3A\"] !=0:\n",
    "        wnba_data_per_team_by_reg_season.loc[x,\"FG3%\"] = wnba_data_per_team_by_reg_season.loc[x,\"FG3M\"]/wnba_data_per_team_by_reg_season.loc[x,\"FG3A\"]\n",
    "    else:\n",
    "        wnba_data_per_team_by_reg_season.loc[x,\"FG3%\"] = 0\n",
    "\n",
    "wnba_data_per_team_by_reg_season[\"FT%\"] = wnba_data_per_team_by_reg_season[\"FTM\"]/wnba_data_per_team_by_reg_season[\"FTA\"]\n",
    "wnba_data_per_team_by_reg_season[\"FG3A%\"] = wnba_data_per_team_by_reg_season[\"FG3A\"]/wnba_data_per_team_by_reg_season[\"FGA\"]\n",
    "wnba_data_per_team_by_reg_season[\"PTS/FGA\"] = wnba_data_per_team_by_reg_season[\"PTS\"]/wnba_data_per_team_by_reg_season[\"FGA\"]\n",
    "wnba_data_per_team_by_reg_season[\"FG3M/FGM\"] = wnba_data_per_team_by_reg_season[\"FG3M\"]/wnba_data_per_team_by_reg_season[\"FGM\"]\n",
    "wnba_data_per_team_by_reg_season[\"FTA/FGA\"] = wnba_data_per_team_by_reg_season[\"FTA\"]/wnba_data_per_team_by_reg_season[\"FGA\"]\n",
    "wnba_data_per_team_by_reg_season[\"TRU%\"] = 0.5*wnba_data_per_team_by_reg_season[\"PTS\"]/(wnba_data_per_team_by_reg_season[\"FGA\"]+0.44*wnba_data_per_team_by_reg_season[\"FTA\"])\n",
    "wnba_data_per_team_by_reg_season[\"AST_TOV\"] = wnba_data_per_team_by_reg_season[\"AST\"]/wnba_data_per_team_by_reg_season[\"TOV\"]\n",
    "wnba_data_per_team_by_reg_season[\"eFG%\"] = (wnba_data_per_team_by_reg_season[\"FGM\"]+wnba_data_per_team_by_reg_season[\"FG3M\"]*0.5)/wnba_data_per_team_by_reg_season[\"FGA\"]\n",
    "wnba_data_per_team_by_reg_season[\"ISO%\"] = (wnba_data_per_team_by_reg_season[\"FGM\"]-wnba_data_per_team_by_reg_season[\"AST\"])/wnba_data_per_team_by_reg_season[\"FGM\"]\n",
    "wnba_data_per_team_by_reg_season[\"FG2%\"] = (wnba_data_per_team_by_reg_season[\"FGM\"]-wnba_data_per_team_by_reg_season[\"FG3M\"])/(wnba_data_per_team_by_reg_season[\"FGA\"]-wnba_data_per_team_by_reg_season[\"FG3A\"])\n",
    "\n",
    "\n",
    "print(f\"Finished in {time.time()-time_st}\") \n"
   ]
  },
  {
   "cell_type": "code",
   "execution_count": 18,
   "id": "a5433587",
   "metadata": {},
   "outputs": [],
   "source": [
    "#this houston in 2008 is also really strange\n",
    "#wnba_data_per_team_by_reg_season[wnba_data_per_team_by_reg_season[\"GP\"]<100]\n",
    "#data[(data['SEASON_TYPE']=='Regular%20Season') & (data[\"SEASON\"]==2008) & (data[\"TEAM\"]=='HOU')]"
   ]
  },
  {
   "cell_type": "code",
   "execution_count": 19,
   "id": "5abaac5d",
   "metadata": {},
   "outputs": [],
   "source": [
    "## create per 100 possetions to compare with the nba dataset"
   ]
  },
  {
   "cell_type": "code",
   "execution_count": 20,
   "id": "97b530f2",
   "metadata": {},
   "outputs": [],
   "source": [
    "## per 100\n",
    "\n",
    "per_100_cols = ['SEASON_START_YEAR',\n",
    " 'RGP',\n",
    " 'TEAM',\n",
    " 'PLAYERS',\n",
    " 'POSSETIONS',\n",
    " 'TIME/POSS',\n",
    " 'FGM',\n",
    " 'FGA',\n",
    " 'FG3M',\n",
    " 'FG3A',\n",
    " 'FTM',\n",
    " 'FTA',\n",
    " 'OREB',\n",
    " 'DREB',\n",
    " 'REB',\n",
    " 'AST',\n",
    " 'STL',\n",
    " 'BLK',\n",
    " 'TOV',\n",
    " 'PF',\n",
    " 'PTS']\n",
    "wnba_data_per100_team_by_reg_season = wnba_data_per_team_by_reg_season[per_100_cols].copy()\n",
    "for col in wnba_data_per100_team_by_reg_season.columns[6:]:\n",
    "    wnba_data_per100_team_by_reg_season[col]=(wnba_data_per100_team_by_reg_season[col]/wnba_data_per100_team_by_reg_season[\"POSSETIONS\"])*100\n",
    "    \n",
    "wnba_data_per100_team_by_reg_season.rename(columns={'POSSETIONS':'POSSETIONS_PER_GAME'},inplace=True)\n",
    "wnba_data_per100_team_by_reg_season[\"FG%\"] = wnba_data_per100_team_by_reg_season[\"FGM\"]/wnba_data_per100_team_by_reg_season[\"FGA\"]\n",
    "for x in range (0,len(wnba_data_per100_team_by_reg_season)):\n",
    "    if wnba_data_per100_team_by_reg_season.loc[x,\"FG3A\"] != 0:\n",
    "        wnba_data_per100_team_by_reg_season.loc[x,\"FG3%\"] = wnba_data_per100_team_by_reg_season.loc[x,\"FG3M\"]/wnba_data_per100_team_by_reg_season.loc[x,\"FG3A\"]\n",
    "    else:\n",
    "        wnba_data_per100_team_by_reg_season.loc[x,\"FG3%\"] = 0\n",
    "        \n",
    "wnba_data_per100_team_by_reg_season[\"FT%\"] = wnba_data_per100_team_by_reg_season[\"FTM\"]/wnba_data_per100_team_by_reg_season[\"FTA\"]\n",
    "wnba_data_per100_team_by_reg_season[\"FG3A%\"] = wnba_data_per100_team_by_reg_season[\"FG3A\"]/wnba_data_per100_team_by_reg_season[\"FGA\"]\n",
    "wnba_data_per100_team_by_reg_season[\"PTS/FGA\"] = wnba_data_per100_team_by_reg_season[\"PTS\"]/wnba_data_per100_team_by_reg_season[\"FGA\"]\n",
    "wnba_data_per100_team_by_reg_season[\"FG3M/FGM\"] = wnba_data_per100_team_by_reg_season[\"FG3M\"]/wnba_data_per100_team_by_reg_season[\"FGM\"]\n",
    "wnba_data_per100_team_by_reg_season[\"FTA/FGA\"] = wnba_data_per100_team_by_reg_season[\"FTA\"]/wnba_data_per100_team_by_reg_season[\"FGA\"]\n",
    "wnba_data_per100_team_by_reg_season[\"TRU%\"] = 0.5*wnba_data_per100_team_by_reg_season[\"PTS\"]/(wnba_data_per100_team_by_reg_season[\"FGA\"]+0.44*wnba_data_per100_team_by_reg_season[\"FTA\"])\n",
    "wnba_data_per100_team_by_reg_season[\"AST_TOV\"] = wnba_data_per100_team_by_reg_season[\"AST\"]/wnba_data_per100_team_by_reg_season[\"TOV\"]\n",
    "wnba_data_per100_team_by_reg_season[\"eFG%\"] = (wnba_data_per100_team_by_reg_season[\"FGM\"]+wnba_data_per100_team_by_reg_season[\"FG3M\"]*0.5)/wnba_data_per100_team_by_reg_season[\"FGA\"]\n",
    "wnba_data_per100_team_by_reg_season[\"ISO%\"] = (wnba_data_per100_team_by_reg_season[\"FGM\"]-wnba_data_per100_team_by_reg_season[\"AST\"])/wnba_data_per100_team_by_reg_season[\"FGM\"]\n",
    "wnba_data_per100_team_by_reg_season[\"FG2%\"] = (wnba_data_per100_team_by_reg_season[\"FGM\"]-wnba_data_per100_team_by_reg_season[\"FG3M\"])/(wnba_data_per100_team_by_reg_season[\"FGA\"]-wnba_data_per100_team_by_reg_season[\"FG3A\"])\n",
    "\n"
   ]
  },
  {
   "cell_type": "code",
   "execution_count": 21,
   "id": "11d73081",
   "metadata": {},
   "outputs": [],
   "source": [
    "filepath = Path('C:/Users/vinic/Documents/Python/NBA/wnba/wnba_reg_season_team_per100_data_set.csv')  \n",
    "filepath.parent.mkdir(parents=True, exist_ok=True)  \n",
    "wnba_data_per100_team_by_reg_season.to_csv(filepath,index=False)\n",
    "\n",
    "filepath = Path('C:/Users/vinic/Documents/Python/NBA/wnba/wnba_reg_season_team_per_game_data_set.csv')  \n",
    "filepath.parent.mkdir(parents=True, exist_ok=True)  \n",
    "wnba_data_per_team_by_reg_season.to_csv(filepath,index=False)\n"
   ]
  },
  {
   "cell_type": "code",
   "execution_count": 22,
   "id": "5f962dde",
   "metadata": {},
   "outputs": [],
   "source": [
    "## creating per season per 100 pos\n",
    "cols_1 = ['RGP', 'POSSETIONS_PER_GAME', 'TIME/POSS']\n",
    "cols = ['FGM', 'FGA', 'FG3M', 'FG3A', 'FTM', 'FTA', 'OREB', 'DREB',\n",
    "       'REB', 'AST', 'STL', 'BLK', 'TOV', 'PF', 'PTS']\n",
    "number_of_teams = wnba_data_per100_team_by_reg_season.SEASON_START_YEAR.value_counts()\n",
    "to_join = wnba_data_per100_team_by_reg_season.groupby([\"SEASON_START_YEAR\"])[cols_1].sum().reset_index()\n",
    "wnba_data_per100_per_season_by_reg_season = wnba_data_per100_team_by_reg_season.groupby([\"SEASON_START_YEAR\"])[cols].sum().reset_index()\n",
    "wnba_data_per100_per_season_by_reg_season = to_join.join(wnba_data_per100_per_season_by_reg_season.set_index('SEASON_START_YEAR'),on=\"SEASON_START_YEAR\")\n",
    "wnba_data_per100_per_season_by_reg_season[\"Number_of_teams\"] = 0\n",
    "for y in number_of_teams.index:\n",
    "    position = wnba_data_per100_per_season_by_reg_season[wnba_data_per100_per_season_by_reg_season[\"SEASON_START_YEAR\"]==y].index[0]\n",
    "    value = number_of_teams.loc[y]\n",
    "    wnba_data_per100_per_season_by_reg_season.loc[position,\"Number_of_teams\"] = value\n",
    "for col in wnba_data_per100_per_season_by_reg_season.columns[1:-1]:\n",
    "    wnba_data_per100_per_season_by_reg_season[col] = wnba_data_per100_per_season_by_reg_season[col]/wnba_data_per100_per_season_by_reg_season[\"Number_of_teams\"]\n",
    "wnba_data_per100_per_season_by_reg_season[\"FG%\"] = wnba_data_per100_per_season_by_reg_season[\"FGM\"]/wnba_data_per100_per_season_by_reg_season[\"FGA\"]\n",
    "for x in range (0,len(wnba_data_per100_per_season_by_reg_season)):\n",
    "    if wnba_data_per100_per_season_by_reg_season.loc[x,\"FG3A\"] != 0:\n",
    "        wnba_data_per100_per_season_by_reg_season.loc[x,\"FG3%\"] = wnba_data_per100_per_season_by_reg_season.loc[x,\"FG3M\"]/wnba_data_per100_per_season_by_reg_season.loc[x,\"FG3A\"]\n",
    "    else:\n",
    "        wnba_data_per100_per_season_by_reg_season.loc[x,\"FG3%\"] = 0\n",
    "        \n",
    "wnba_data_per100_per_season_by_reg_season[\"FT%\"] = wnba_data_per100_per_season_by_reg_season[\"FTM\"]/wnba_data_per100_per_season_by_reg_season[\"FTA\"]\n",
    "wnba_data_per100_per_season_by_reg_season[\"FG3A%\"] = wnba_data_per100_per_season_by_reg_season[\"FG3A\"]/wnba_data_per100_per_season_by_reg_season[\"FGA\"]\n",
    "wnba_data_per100_per_season_by_reg_season[\"PTS/FGA\"] = wnba_data_per100_per_season_by_reg_season[\"PTS\"]/wnba_data_per100_per_season_by_reg_season[\"FGA\"]\n",
    "wnba_data_per100_per_season_by_reg_season[\"FG3M/FGM\"] = wnba_data_per100_per_season_by_reg_season[\"FG3M\"]/wnba_data_per100_per_season_by_reg_season[\"FGM\"]\n",
    "wnba_data_per100_per_season_by_reg_season[\"FTA/FGA\"] = wnba_data_per100_per_season_by_reg_season[\"FTA\"]/wnba_data_per100_per_season_by_reg_season[\"FGA\"]\n",
    "wnba_data_per100_per_season_by_reg_season[\"TRU%\"] = 0.5*wnba_data_per100_per_season_by_reg_season[\"PTS\"]/(wnba_data_per100_per_season_by_reg_season[\"FGA\"]+0.44*wnba_data_per100_per_season_by_reg_season[\"FTA\"])\n",
    "wnba_data_per100_per_season_by_reg_season[\"AST_TOV\"] = wnba_data_per100_per_season_by_reg_season[\"AST\"]/wnba_data_per100_per_season_by_reg_season[\"TOV\"]\n",
    "wnba_data_per100_per_season_by_reg_season[\"eFG%\"] = (wnba_data_per100_per_season_by_reg_season[\"FGM\"]+wnba_data_per100_per_season_by_reg_season[\"FG3M\"]*0.5)/wnba_data_per100_per_season_by_reg_season[\"FGA\"]\n",
    "wnba_data_per100_per_season_by_reg_season[\"ISO%\"] = (wnba_data_per100_per_season_by_reg_season[\"FGM\"]-wnba_data_per100_per_season_by_reg_season[\"AST\"])/wnba_data_per100_per_season_by_reg_season[\"FGM\"]\n",
    "wnba_data_per100_per_season_by_reg_season[\"FG2%\"] = (wnba_data_per100_per_season_by_reg_season[\"FGM\"]-wnba_data_per100_per_season_by_reg_season[\"FG3M\"])/(wnba_data_per100_per_season_by_reg_season[\"FGA\"]-wnba_data_per100_per_season_by_reg_season[\"FG3A\"])\n",
    "\n"
   ]
  },
  {
   "cell_type": "code",
   "execution_count": 23,
   "id": "d5c8802a",
   "metadata": {},
   "outputs": [
    {
     "data": {
      "application/vnd.plotly.v1+json": {
       "config": {
        "plotlyServerURL": "https://plot.ly"
       },
       "data": [
        {
         "name": "RGP",
         "type": "scatter",
         "x": [
          1997,
          1998,
          1999,
          2000,
          2001,
          2002,
          2003,
          2004,
          2005,
          2006,
          2007,
          2008,
          2009,
          2010,
          2011,
          2012,
          2013,
          2014,
          2015,
          2016,
          2017,
          2018,
          2019,
          2020,
          2021,
          2022,
          2023,
          2024
         ],
         "y": [
          28.3125,
          30.2,
          32.270833333333336,
          26.165937500000002,
          32.4375,
          32.3475,
          34.56423076923077,
          34.36346153846154,
          34.29615384615385,
          34.21357142857143,
          34.40076923076923,
          34.36107142857143,
          34.59615384615385,
          34.354166666666664,
          34.272083333333335,
          34.31458333333334,
          34.270833333333336,
          34.39375,
          34.27916666666666,
          34.51958333333334,
          34.29333333333333,
          33.983333333333334,
          34.08875,
          22.0825,
          32.27166666666667,
          36.253750000000004,
          40.209583333333335,
          14.772083333333333
         ]
        },
        {
         "name": "POSSETIONS_PER_GAME",
         "type": "scatter",
         "x": [
          1997,
          1998,
          1999,
          2000,
          2001,
          2002,
          2003,
          2004,
          2005,
          2006,
          2007,
          2008,
          2009,
          2010,
          2011,
          2012,
          2013,
          2014,
          2015,
          2016,
          2017,
          2018,
          2019,
          2020,
          2021,
          2022,
          2023,
          2024
         ],
         "y": [
          76.53050646490854,
          75.93519174112728,
          73.11360331928644,
          72.13068481262262,
          70.10376799439369,
          70.6224835110912,
          72.12195942350864,
          70.349942002512,
          70.59123044519346,
          77.68292510821188,
          79.29285846520085,
          78.57607342733228,
          79.3877562760358,
          79.6136564892482,
          78.15569162514346,
          78.63680242439473,
          77.77912377678383,
          77.45962775249801,
          77.02549654455167,
          79.31486503791423,
          80.00936074740147,
          80.44270112193722,
          80.36324985226445,
          81.46507788997488,
          80.33061556769091,
          80.9415433228777,
          81.28660366631756,
          81.24191783883312
         ]
        },
        {
         "name": "TIME/POSS",
         "type": "scatter",
         "x": [
          1997,
          1998,
          1999,
          2000,
          2001,
          2002,
          2003,
          2004,
          2005,
          2006,
          2007,
          2008,
          2009,
          2010,
          2011,
          2012,
          2013,
          2014,
          2015,
          2016,
          2017,
          2018,
          2019,
          2020,
          2021,
          2022,
          2023,
          2024
         ],
         "y": [
          15.682376645218719,
          15.805003385922793,
          16.418094836221623,
          16.642093719385606,
          17.122226887343633,
          16.999315839777125,
          16.84528145952009,
          17.06469445865572,
          17.007294258655243,
          15.449078572561168,
          15.137755221935775,
          15.280838517171123,
          15.124904938441224,
          15.08096181512004,
          15.35802514348196,
          15.263095731849061,
          15.43119196357275,
          15.494632084315874,
          15.581600134786013,
          15.130901306397185,
          15.001476830900792,
          14.919881179364937,
          14.935379318527339,
          14.731118190009441,
          14.939716883358338,
          14.826890340484077,
          14.76347586715748,
          14.772159283567548
         ]
        },
        {
         "name": "FGM",
         "type": "scatter",
         "x": [
          1997,
          1998,
          1999,
          2000,
          2001,
          2002,
          2003,
          2004,
          2005,
          2006,
          2007,
          2008,
          2009,
          2010,
          2011,
          2012,
          2013,
          2014,
          2015,
          2016,
          2017,
          2018,
          2019,
          2020,
          2021,
          2022,
          2023,
          2024
         ],
         "y": [
          32.75348400354004,
          33.779230386150275,
          34.02559098871876,
          34.71473219660344,
          33.84597549463914,
          34.46759466143399,
          34.95498183619841,
          34.46163793287727,
          34.5261056760451,
          35.020855948694376,
          34.47956874624157,
          34.341827777916656,
          35.1678764031104,
          36.340322220072466,
          36.2804862902122,
          35.99897731603579,
          35.85185984765143,
          36.9022234345108,
          35.738303317104815,
          36.99823348843068,
          37.1740473112949,
          37.94686176061748,
          36.08579877826346,
          37.22761779913977,
          36.660235041985466,
          36.85363980883633,
          36.8612157423178,
          36.01128127695813
         ]
        },
        {
         "name": "FGA",
         "type": "scatter",
         "x": [
          1997,
          1998,
          1999,
          2000,
          2001,
          2002,
          2003,
          2004,
          2005,
          2006,
          2007,
          2008,
          2009,
          2010,
          2011,
          2012,
          2013,
          2014,
          2015,
          2016,
          2017,
          2018,
          2019,
          2020,
          2021,
          2022,
          2023,
          2024
         ],
         "y": [
          79.15960761279051,
          79.77138341312994,
          81.07578551634258,
          80.28790705937686,
          82.33594013255224,
          82.04252123606992,
          83.20244027032467,
          82.04939606020909,
          81.25459692739493,
          82.50795694803583,
          82.11033559362589,
          82.31738526218719,
          82.33603967734327,
          82.51437108746451,
          83.3526705154087,
          83.89343532624126,
          84.70328517854064,
          84.4719101472903,
          84.14422817212255,
          83.78310613261748,
          84.20344782364506,
          85.18270660937807,
          85.07868463284275,
          83.42373346298344,
          84.41625969206511,
          83.3829272699521,
          83.64691813237285,
          83.46147643419177
         ]
        },
        {
         "name": "FG3M",
         "type": "scatter",
         "x": [
          1997,
          1998,
          1999,
          2000,
          2001,
          2002,
          2003,
          2004,
          2005,
          2006,
          2007,
          2008,
          2009,
          2010,
          2011,
          2012,
          2013,
          2014,
          2015,
          2016,
          2017,
          2018,
          2019,
          2020,
          2021,
          2022,
          2023,
          2024
         ],
         "y": [
          4.886338922174812,
          4.874660558189335,
          5.862449725591823,
          5.444727763184634,
          6.0784948785566115,
          6.303339849630245,
          6.422588563249276,
          6.042611745034478,
          5.6597195604339765,
          6.484383140355372,
          6.899684555014821,
          6.564040283893791,
          7.0467653334099,
          7.29621716811043,
          7.118237980298905,
          7.878605888793646,
          6.011799584483854,
          5.917240693192318,
          6.205481990949779,
          6.720784410368981,
          7.347677132856412,
          8.34185125536718,
          8.388842937624222,
          8.958647852779958,
          8.989082841666027,
          9.48785256439738,
          9.376358375201198,
          9.344998244020081
         ]
        },
        {
         "name": "FG3A",
         "type": "scatter",
         "x": [
          1997,
          1998,
          1999,
          2000,
          2001,
          2002,
          2003,
          2004,
          2005,
          2006,
          2007,
          2008,
          2009,
          2010,
          2011,
          2012,
          2013,
          2014,
          2015,
          2016,
          2017,
          2018,
          2019,
          2020,
          2021,
          2022,
          2023,
          2024
         ],
         "y": [
          15.579925045475678,
          15.504240853837544,
          18.275000564481005,
          16.815746354683675,
          18.13644260386074,
          18.506765107574445,
          18.89142640947908,
          17.278815407620208,
          16.795130033286583,
          19.36084433877173,
          19.822220122352043,
          19.691114490099,
          20.471547091798627,
          20.903972546483114,
          20.16553510077044,
          22.32037814420543,
          18.438248246271943,
          17.994823756887545,
          19.08967738580475,
          19.989782473846603,
          21.68348309908166,
          24.173669669094632,
          24.854451179731498,
          25.913425187689118,
          26.18237904321865,
          27.471941580508073,
          27.040644457976722,
          27.834474486906373
         ]
        },
        {
         "name": "FTM",
         "type": "scatter",
         "x": [
          1997,
          1998,
          1999,
          2000,
          2001,
          2002,
          2003,
          2004,
          2005,
          2006,
          2007,
          2008,
          2009,
          2010,
          2011,
          2012,
          2013,
          2014,
          2015,
          2016,
          2017,
          2018,
          2019,
          2020,
          2021,
          2022,
          2023,
          2024
         ],
         "y": [
          19.019230306110757,
          19.64247427894278,
          20.034940978629333,
          19.974684271816077,
          18.661252527401686,
          19.49920155050306,
          19.283116254763687,
          19.375218259167585,
          19.841534282878754,
          19.625716671739365,
          19.582494635382066,
          20.0579010181123,
          19.86255752939555,
          19.786650952096306,
          18.426165516673755,
          17.806864151198187,
          18.802007177132037,
          18.49556324661544,
          18.984570107056037,
          20.94776091748519,
          19.29234549843664,
          18.291074510850837,
          17.05805137857344,
          18.181822641640235,
          17.215433693037628,
          17.71133462033351,
          18.13256096539378,
          18.00432593045791
         ]
        },
        {
         "name": "FTA",
         "type": "scatter",
         "x": [
          1997,
          1998,
          1999,
          2000,
          2001,
          2002,
          2003,
          2004,
          2005,
          2006,
          2007,
          2008,
          2009,
          2010,
          2011,
          2012,
          2013,
          2014,
          2015,
          2016,
          2017,
          2018,
          2019,
          2020,
          2021,
          2022,
          2023,
          2024
         ],
         "y": [
          26.66745880889347,
          27.374886420886394,
          27.37962919076224,
          27.176427465138673,
          25.209468191368046,
          26.23134297663005,
          25.96827812108702,
          26.148469474529044,
          26.795021692477494,
          26.261156011345342,
          25.28818668525173,
          26.624137429469776,
          25.5196936441579,
          25.551636203873496,
          23.902422239407993,
          23.343897055908727,
          24.06679372460577,
          23.72114489591328,
          23.864312307409975,
          26.247335436796035,
          24.18888644755727,
          23.041934963575173,
          21.398698140826678,
          22.529538429106083,
          21.29332962911236,
          22.317749467089257,
          22.674127295469546,
          22.582135882785817
         ]
        },
        {
         "name": "OREB",
         "type": "scatter",
         "x": [
          1997,
          1998,
          1999,
          2000,
          2001,
          2002,
          2003,
          2004,
          2005,
          2006,
          2007,
          2008,
          2009,
          2010,
          2011,
          2012,
          2013,
          2014,
          2015,
          2016,
          2017,
          2018,
          2019,
          2020,
          2021,
          2022,
          2023,
          2024
         ],
         "y": [
          14.283886385080114,
          13.565273661519836,
          13.673557419677778,
          13.541988555418428,
          13.893174099382486,
          13.744509774493682,
          13.818914079321425,
          13.45020372709025,
          12.98870315858267,
          12.979125006897368,
          13.009678954098176,
          12.977270349641275,
          12.236283334604634,
          12.245795537281777,
          12.037130397401336,
          12.779937690191554,
          12.479774425095579,
          11.822682788647356,
          11.293540581457856,
          11.290040099695595,
          10.921549467289964,
          11.014080459382269,
          11.217702957426738,
          10.098212689802466,
          10.029640645807257,
          10.00403468622176,
          9.799849435944234,
          10.301203738367233
         ]
        },
        {
         "name": "DREB",
         "type": "scatter",
         "x": [
          1997,
          1998,
          1999,
          2000,
          2001,
          2002,
          2003,
          2004,
          2005,
          2006,
          2007,
          2008,
          2009,
          2010,
          2011,
          2012,
          2013,
          2014,
          2015,
          2016,
          2017,
          2018,
          2019,
          2020,
          2021,
          2022,
          2023,
          2024
         ],
         "y": [
          27.87477540082491,
          28.467534403691086,
          28.60817870843212,
          28.013454547919363,
          29.616294413179823,
          29.001601937546127,
          29.806241534524823,
          29.37525525761241,
          29.30221332511786,
          29.909733218563623,
          29.555000825242377,
          29.426882879316718,
          29.510327018848383,
          29.63772527876183,
          30.265105680080612,
          29.991785136011543,
          31.41509832919608,
          31.037715701514305,
          31.905840286898677,
          30.637857428568328,
          31.01973956420112,
          31.649908190029066,
          31.93005585853074,
          31.583840129091517,
          32.879999738980864,
          32.00242168893811,
          32.214865874841486,
          31.907192334808474
         ]
        },
        {
         "name": "REB",
         "type": "scatter",
         "x": [
          1997,
          1998,
          1999,
          2000,
          2001,
          2002,
          2003,
          2004,
          2005,
          2006,
          2007,
          2008,
          2009,
          2010,
          2011,
          2012,
          2013,
          2014,
          2015,
          2016,
          2017,
          2018,
          2019,
          2020,
          2021,
          2022,
          2023,
          2024
         ],
         "y": [
          42.158661785905025,
          42.03280806521093,
          42.281736128109905,
          41.55544310333779,
          43.50946851256229,
          42.74611171203981,
          43.625155613846246,
          42.79667924189626,
          42.290916483700535,
          42.89414340409322,
          42.56467977934055,
          42.39944684138981,
          41.746610353453015,
          41.88352081604361,
          42.30223607748195,
          42.771722826203096,
          43.89487275429167,
          42.86039849016166,
          43.19938086835654,
          41.92789752826393,
          41.944239259956774,
          42.66398864941133,
          43.14775881595748,
          41.682052818893986,
          42.909640384788126,
          42.00645637515986,
          42.014715310785725,
          42.20839607317571
         ]
        },
        {
         "name": "AST",
         "type": "scatter",
         "x": [
          1997,
          1998,
          1999,
          2000,
          2001,
          2002,
          2003,
          2004,
          2005,
          2006,
          2007,
          2008,
          2009,
          2010,
          2011,
          2012,
          2013,
          2014,
          2015,
          2016,
          2017,
          2018,
          2019,
          2020,
          2021,
          2022,
          2023,
          2024
         ],
         "y": [
          20.618203650763505,
          21.022258792221606,
          21.69529076971838,
          22.128633896470614,
          21.206313327508575,
          21.2168901986043,
          21.324918890667497,
          21.57942262898217,
          21.096442411054376,
          20.46083092551618,
          20.542002223282502,
          20.1008415653261,
          20.38010411689266,
          21.746480251110956,
          21.408168071267223,
          21.28406819161862,
          20.401841660724962,
          21.803990909331002,
          21.054108309487898,
          21.918049750170766,
          22.230152073108826,
          23.75399372180141,
          23.331099530894438,
          23.37630119876295,
          23.312399080101358,
          24.81160230631154,
          24.292356285864802,
          24.692198711176435
         ]
        },
        {
         "name": "STL",
         "type": "scatter",
         "x": [
          1997,
          1998,
          1999,
          2000,
          2001,
          2002,
          2003,
          2004,
          2005,
          2006,
          2007,
          2008,
          2009,
          2010,
          2011,
          2012,
          2013,
          2014,
          2015,
          2016,
          2017,
          2018,
          2019,
          2020,
          2021,
          2022,
          2023,
          2024
         ],
         "y": [
          12.639282133027326,
          11.491813765519623,
          10.631114607592211,
          11.365842977071068,
          11.358466855192363,
          10.940667419331412,
          10.40514111914391,
          10.946884700112168,
          10.467702869943192,
          10.20753918831108,
          10.019792991530315,
          10.170390576032483,
          10.174138535105666,
          10.294286232873487,
          9.995511188633198,
          10.542388843745877,
          9.841264863860964,
          9.686817034161008,
          9.239028855095484,
          9.118420315699462,
          8.715139034164839,
          8.583636854344864,
          9.252260262980728,
          9.477528585068667,
          8.653278652036816,
          9.175550688429519,
          8.67745767342956,
          9.606774526350828
         ]
        },
        {
         "name": "BLK",
         "type": "scatter",
         "x": [
          1997,
          1998,
          1999,
          2000,
          2001,
          2002,
          2003,
          2004,
          2005,
          2006,
          2007,
          2008,
          2009,
          2010,
          2011,
          2012,
          2013,
          2014,
          2015,
          2016,
          2017,
          2018,
          2019,
          2020,
          2021,
          2022,
          2023,
          2024
         ],
         "y": [
          4.519573083462772,
          4.536817999134638,
          4.645872666649773,
          4.848003588728357,
          5.292638217885217,
          5.07819251281472,
          5.160394272854252,
          5.253309044065175,
          5.017094219336228,
          4.397000355890832,
          4.551729225904859,
          4.704021670146722,
          4.6172449679501115,
          4.622507301183863,
          4.992217981687359,
          4.872447636031821,
          5.226382689586392,
          4.724440530488306,
          5.546792375534426,
          5.002455443061662,
          4.807623124898012,
          4.607438624920122,
          5.177912919276889,
          4.262981038799841,
          5.107289187410888,
          4.560270453619967,
          4.769963737481139,
          5.2718630234279065
         ]
        },
        {
         "name": "TOV",
         "type": "scatter",
         "x": [
          1997,
          1998,
          1999,
          2000,
          2001,
          2002,
          2003,
          2004,
          2005,
          2006,
          2007,
          2008,
          2009,
          2010,
          2011,
          2012,
          2013,
          2014,
          2015,
          2016,
          2017,
          2018,
          2019,
          2020,
          2021,
          2022,
          2023,
          2024
         ],
         "y": [
          23.390596896376476,
          21.748940223199874,
          20.55073505939982,
          21.296453411380554,
          20.46506796262831,
          20.160197628706534,
          19.19043143571847,
          19.895481098088396,
          19.944296686497633,
          18.916259413869604,
          19.772541218961543,
          18.945264618487386,
          18.671578453831884,
          18.488704520112922,
          18.16739409665311,
          18.615187659350457,
          17.1871000077284,
          16.913468887155222,
          16.64901499407492,
          15.958106374887857,
          16.07499160671969,
          15.692922466031114,
          16.723591142620247,
          16.76148231801237,
          16.244315916932727,
          16.801297650750385,
          16.176315293564773,
          16.903587515749688
         ]
        },
        {
         "name": "PF",
         "type": "scatter",
         "x": [
          1997,
          1998,
          1999,
          2000,
          2001,
          2002,
          2003,
          2004,
          2005,
          2006,
          2007,
          2008,
          2009,
          2010,
          2011,
          2012,
          2013,
          2014,
          2015,
          2016,
          2017,
          2018,
          2019,
          2020,
          2021,
          2022,
          2023,
          2024
         ],
         "y": [
          25.37031903498567,
          26.50245639118714,
          27.779512192212767,
          28.2585738922135,
          26.460148142972038,
          27.025689998985317,
          25.876908151206393,
          26.794569335830882,
          27.715188428916274,
          25.147017834688487,
          24.476348400705845,
          26.358950576608063,
          24.375931098569083,
          23.878661129045625,
          23.21001017199927,
          22.448280173814254,
          22.69011759361872,
          23.28097794833447,
          23.807059840122964,
          24.3898754760465,
          23.35003002775349,
          22.528405820622243,
          21.68303391633781,
          21.93595017632587,
          21.569780357746993,
          21.725154437755112,
          21.882335155987608,
          21.930837712773826
         ]
        },
        {
         "name": "PTS",
         "type": "scatter",
         "x": [
          1997,
          1998,
          1999,
          2000,
          2001,
          2002,
          2003,
          2004,
          2005,
          2006,
          2007,
          2008,
          2009,
          2010,
          2011,
          2012,
          2013,
          2014,
          2015,
          2016,
          2017,
          2018,
          2019,
          2020,
          2021,
          2022,
          2023,
          2024
         ],
         "y": [
          89.41253723536566,
          92.07559560943267,
          93.94857268165867,
          94.8488764282076,
          92.4316983952366,
          94.7377307230013,
          95.61566849040979,
          94.34110586995659,
          94.55346519540292,
          96.15181170948348,
          95.44131668288004,
          95.30559685783942,
          97.24507566902624,
          99.76351256035167,
          98.10537607739707,
          97.68342467206342,
          96.51752645691874,
          98.21725080882935,
          96.66665873221545,
          101.66501230471555,
          100.98811725388286,
          102.52664928745297,
          97.61849187272458,
          101.59570609269974,
          99.52498661867459,
          100.90646680240354,
          101.23135082523059,
          99.37188672839424
         ]
        },
        {
         "name": "Number_of_teams",
         "type": "scatter",
         "x": [
          1997,
          1998,
          1999,
          2000,
          2001,
          2002,
          2003,
          2004,
          2005,
          2006,
          2007,
          2008,
          2009,
          2010,
          2011,
          2012,
          2013,
          2014,
          2015,
          2016,
          2017,
          2018,
          2019,
          2020,
          2021,
          2022,
          2023,
          2024
         ],
         "y": [
          8,
          10,
          12,
          16,
          16,
          16,
          13,
          13,
          13,
          14,
          13,
          14,
          13,
          12,
          12,
          12,
          12,
          12,
          12,
          12,
          12,
          12,
          12,
          12,
          12,
          12,
          12,
          12
         ]
        },
        {
         "name": "FG%",
         "type": "scatter",
         "x": [
          1997,
          1998,
          1999,
          2000,
          2001,
          2002,
          2003,
          2004,
          2005,
          2006,
          2007,
          2008,
          2009,
          2010,
          2011,
          2012,
          2013,
          2014,
          2015,
          2016,
          2017,
          2018,
          2019,
          2020,
          2021,
          2022,
          2023,
          2024
         ],
         "y": [
          0.41376511318441367,
          0.4234504773624171,
          0.41967636541566616,
          0.4323780936390606,
          0.41107170744817717,
          0.42011866702946166,
          0.42011967104125425,
          0.42001086647351793,
          0.4249126447196078,
          0.4244542859151244,
          0.41991752313478753,
          0.4171880298254773,
          0.427126159345598,
          0.440412036608169,
          0.435264833938408,
          0.42910362623779186,
          0.42326410093872496,
          0.4368579255537831,
          0.4247267351956662,
          0.44159539072074283,
          0.4414789212569049,
          0.4454761215164273,
          0.42414617637768853,
          0.4462473237985485,
          0.4342793103569765,
          0.4419806429860962,
          0.4406763161792073,
          0.43147189356699833
         ]
        },
        {
         "name": "FG3%",
         "type": "scatter",
         "x": [
          1997,
          1998,
          1999,
          2000,
          2001,
          2002,
          2003,
          2004,
          2005,
          2006,
          2007,
          2008,
          2009,
          2010,
          2011,
          2012,
          2013,
          2014,
          2015,
          2016,
          2017,
          2018,
          2019,
          2020,
          2021,
          2022,
          2023,
          2024
         ],
         "y": [
          0.3136304512320987,
          0.3144082063832735,
          0.32079067275029177,
          0.32378745779952367,
          0.3351536467941442,
          0.3405965231087531,
          0.33997372268441506,
          0.3497121534367222,
          0.33698575415712007,
          0.3349225388569364,
          0.3480782935729061,
          0.3333503691319398,
          0.3442224127864277,
          0.3490349574410413,
          0.3529902848958839,
          0.35297815466621035,
          0.3260504742200436,
          0.32883015544553396,
          0.32507002950003905,
          0.3362109827439113,
          0.338860555717988,
          0.34508005485125026,
          0.3375187356567029,
          0.3457145393900305,
          0.3433256705522426,
          0.3453651987644446,
          0.3467505513699125,
          0.3357346749411801
         ]
        },
        {
         "name": "FT%",
         "type": "scatter",
         "x": [
          1997,
          1998,
          1999,
          2000,
          2001,
          2002,
          2003,
          2004,
          2005,
          2006,
          2007,
          2008,
          2009,
          2010,
          2011,
          2012,
          2013,
          2014,
          2015,
          2016,
          2017,
          2018,
          2019,
          2020,
          2021,
          2022,
          2023,
          2024
         ],
         "y": [
          0.7131999506367639,
          0.7175362840576404,
          0.7317462497041058,
          0.7350003710914235,
          0.7402477666621888,
          0.7433550606949568,
          0.7425642995984866,
          0.740969496438053,
          0.7404933091899351,
          0.7473287414788848,
          0.7743732233202284,
          0.7533728020766063,
          0.7783227262190346,
          0.7743790180096862,
          0.7708911394885528,
          0.7628059748786021,
          0.7812427111098292,
          0.7797078651883235,
          0.7955213568488727,
          0.7980909516673684,
          0.7975706339464373,
          0.7938167753604667,
          0.7971536990854738,
          0.807021533035537,
          0.8084895125795916,
          0.7935985949860863,
          0.7997027064859424,
          0.7972817993794141
         ]
        },
        {
         "name": "FG3A%",
         "type": "scatter",
         "x": [
          1997,
          1998,
          1999,
          2000,
          2001,
          2002,
          2003,
          2004,
          2005,
          2006,
          2007,
          2008,
          2009,
          2010,
          2011,
          2012,
          2013,
          2014,
          2015,
          2016,
          2017,
          2018,
          2019,
          2020,
          2021,
          2022,
          2023,
          2024
         ],
         "y": [
          0.19681660275130386,
          0.1943584301846974,
          0.22540639536322818,
          0.2094430776760391,
          0.22027370519681888,
          0.2255752849711055,
          0.22705375404977124,
          0.21059040330949846,
          0.20669759826996467,
          0.2346542691750972,
          0.24140956164708227,
          0.23920966910430028,
          0.24863409962419972,
          0.25333735531141705,
          0.24193028221024554,
          0.26605631367230204,
          0.2176804383372751,
          0.21302730961701574,
          0.22686853038518057,
          0.2385896560364502,
          0.2575130075967358,
          0.2837861184658961,
          0.2921348782834495,
          0.3106241367055019,
          0.31015800911728525,
          0.3294672240465689,
          0.323271258065771,
          0.33350086382492256
         ]
        },
        {
         "name": "PTS/FGA",
         "type": "scatter",
         "x": [
          1997,
          1998,
          1999,
          2000,
          2001,
          2002,
          2003,
          2004,
          2005,
          2006,
          2007,
          2008,
          2009,
          2010,
          2011,
          2012,
          2013,
          2014,
          2015,
          2016,
          2017,
          2018,
          2019,
          2020,
          2021,
          2022,
          2023,
          2024
         ],
         "y": [
          1.129522239078387,
          1.1542434350496362,
          1.1587747449294994,
          1.1813594338442797,
          1.1226166634695764,
          1.1547393875232341,
          1.1491930787096454,
          1.1498086567356043,
          1.1636691186824937,
          1.1653641087009423,
          1.162354483060827,
          1.1577821204388816,
          1.1810754567514807,
          1.2090440882667968,
          1.1769913965655265,
          1.1643750704950422,
          1.139477958304399,
          1.1627208457530065,
          1.1488210282763238,
          1.2134309289487717,
          1.1993347049801506,
          1.203608729617021,
          1.1473907041933875,
          1.2178273720844623,
          1.178978871863351,
          1.2101574039937337,
          1.2102221227688275,
          1.1906317857526474
         ]
        },
        {
         "name": "FG3M/FGM",
         "type": "scatter",
         "x": [
          1997,
          1998,
          1999,
          2000,
          2001,
          2002,
          2003,
          2004,
          2005,
          2006,
          2007,
          2008,
          2009,
          2010,
          2011,
          2012,
          2013,
          2014,
          2015,
          2016,
          2017,
          2018,
          2019,
          2020,
          2021,
          2022,
          2023,
          2024
         ],
         "y": [
          0.14918531786257275,
          0.14430940262593966,
          0.1722953093609903,
          0.15684199239530233,
          0.1795928404994379,
          0.18287727680292964,
          0.18373886141168644,
          0.17534313826881903,
          0.16392580192908357,
          0.18515775713349228,
          0.20010936348404643,
          0.19113834960510648,
          0.20037505968903638,
          0.20077469660080194,
          0.19620018109347317,
          0.21885638082513278,
          0.16768445514487507,
          0.1603491644261885,
          0.17363672628464583,
          0.18165149459015564,
          0.19765609785039215,
          0.219829805900435,
          0.23246937082288732,
          0.24064520864901992,
          0.2451998147685414,
          0.2574468251606045,
          0.25436921128016005,
          0.25950196473568665
         ]
        },
        {
         "name": "FTA/FGA",
         "type": "scatter",
         "x": [
          1997,
          1998,
          1999,
          2000,
          2001,
          2002,
          2003,
          2004,
          2005,
          2006,
          2007,
          2008,
          2009,
          2010,
          2011,
          2012,
          2013,
          2014,
          2015,
          2016,
          2017,
          2018,
          2019,
          2020,
          2021,
          2022,
          2023,
          2024
         ],
         "y": [
          0.3368821500396697,
          0.34316675040112987,
          0.33770414947436167,
          0.3384871826966465,
          0.30617817870037606,
          0.31972863073224844,
          0.31210957318939325,
          0.3186917970162864,
          0.32976622499795544,
          0.3182863445265628,
          0.3079781187402042,
          0.3234327395685596,
          0.3099456051586151,
          0.3096628607492989,
          0.28676252472306035,
          0.278256540158714,
          0.28413058211233383,
          0.28081695861442774,
          0.2836119936663268,
          0.3132771825772371,
          0.28726717340860264,
          0.270500150567397,
          0.2515165606188296,
          0.27006149801606316,
          0.2522420408910142,
          0.2676537055941389,
          0.2710694882934875,
          0.2705695711073542
         ]
        },
        {
         "name": "TRU%",
         "type": "scatter",
         "x": [
          1997,
          1998,
          1999,
          2000,
          2001,
          2002,
          2003,
          2004,
          2005,
          2006,
          2007,
          2008,
          2009,
          2010,
          2011,
          2012,
          2013,
          2014,
          2015,
          2016,
          2017,
          2018,
          2019,
          2020,
          2021,
          2022,
          2023,
          2024
         ],
         "y": [
          0.4918544467822237,
          0.5014118521258905,
          0.5044336624495014,
          0.5141109338251695,
          0.49466751611094895,
          0.5061624568838918,
          0.5052161136860074,
          0.5042027982065277,
          0.5081093468190946,
          0.5111039893548094,
          0.5118202842841707,
          0.5067721150728554,
          0.5196675166824034,
          0.5320318254225855,
          0.5225612638512073,
          0.5186836084631982,
          0.5064267901338717,
          0.5174273749162577,
          0.5106827792325164,
          0.5332159347474759,
          0.5323762903570051,
          0.5377958652925955,
          0.516532141516084,
          0.5442429024887174,
          0.530600000087396,
          0.541327808667251,
          0.5406298306966357,
          0.5319829924327873
         ]
        },
        {
         "name": "AST_TOV",
         "type": "scatter",
         "x": [
          1997,
          1998,
          1999,
          2000,
          2001,
          2002,
          2003,
          2004,
          2005,
          2006,
          2007,
          2008,
          2009,
          2010,
          2011,
          2012,
          2013,
          2014,
          2015,
          2016,
          2017,
          2018,
          2019,
          2020,
          2021,
          2022,
          2023,
          2024
         ],
         "y": [
          0.881474027452354,
          0.9665877314701014,
          1.0556941494798282,
          1.0390760127526846,
          1.0362200294782244,
          1.052414792223719,
          1.1112266528295025,
          1.0846393973883632,
          1.0577681801803895,
          1.0816531153360098,
          1.0389156353652236,
          1.0609955558874098,
          1.0915040829186107,
          1.1762035694525848,
          1.1783840851017344,
          1.143371132276906,
          1.1870438672929704,
          1.2891495561794448,
          1.264585821862775,
          1.3734743481007026,
          1.3829028727962849,
          1.5136755931356498,
          1.395101048089778,
          1.3946440270167577,
          1.4351111613017211,
          1.4767670225283698,
          1.5017237142706248,
          1.4607667566526819
         ]
        },
        {
         "name": "eFG%",
         "type": "scatter",
         "x": [
          1997,
          1998,
          1999,
          2000,
          2001,
          2002,
          2003,
          2004,
          2005,
          2006,
          2007,
          2008,
          2009,
          2010,
          2011,
          2012,
          2013,
          2014,
          2015,
          2016,
          2017,
          2018,
          2019,
          2020,
          2021,
          2022,
          2023,
          2024
         ],
         "y": [
          0.44462895314984374,
          0.45400442007733677,
          0.4558305000210603,
          0.466285614476277,
          0.4479844752429632,
          0.458533745909674,
          0.45871582604814043,
          0.45683387819075416,
          0.4597397177373425,
          0.4637497877079957,
          0.4619322372699373,
          0.45705834557340114,
          0.46991887418240946,
          0.48462383312284224,
          0.477964353559576,
          0.4760596595564636,
          0.45875150601287273,
          0.4718828272215366,
          0.46160081512813683,
          0.48170362208501616,
          0.4851094216863251,
          0.49444058617954467,
          0.47344667375741584,
          0.4999409639708327,
          0.4875219135856467,
          0.4988738996457028,
          0.49672355966738296,
          0.4874557956214299
         ]
        },
        {
         "name": "ISO%",
         "type": "scatter",
         "x": [
          1997,
          1998,
          1999,
          2000,
          2001,
          2002,
          2003,
          2004,
          2005,
          2006,
          2007,
          2008,
          2009,
          2010,
          2011,
          2012,
          2013,
          2014,
          2015,
          2016,
          2017,
          2018,
          2019,
          2020,
          2021,
          2022,
          2023,
          2024
         ],
         "y": [
          0.37050349671091287,
          0.3776572600410434,
          0.3623831316578311,
          0.36255783938797825,
          0.3734465318966079,
          0.384439488539535,
          0.389931913264964,
          0.3738132043806641,
          0.38897127266538173,
          0.41575297429933356,
          0.4042268227173904,
          0.4146834089520463,
          0.42049090814337153,
          0.40158812793631876,
          0.40992609911508415,
          0.408759087660593,
          0.4309404938148157,
          0.4091415399934953,
          0.4108811455687901,
          0.40759199335761465,
          0.40199806905732177,
          0.37401954681654076,
          0.3534548126741733,
          0.37207098974506203,
          0.3640957551580719,
          0.32675300363785215,
          0.34097788701048093,
          0.31432046193325053
         ]
        },
        {
         "name": "FG2%",
         "type": "scatter",
         "x": [
          1997,
          1998,
          1999,
          2000,
          2001,
          2002,
          2003,
          2004,
          2005,
          2006,
          2007,
          2008,
          2009,
          2010,
          2011,
          2012,
          2013,
          2014,
          2015,
          2016,
          2017,
          2018,
          2019,
          2020,
          2021,
          2022,
          2023,
          2024
         ],
         "y": [
          0.43830267714628734,
          0.4497565735289039,
          0.4484520581186161,
          0.4611471251088914,
          0.4325186595685258,
          0.44328196480174126,
          0.44366262573136755,
          0.43876441899254276,
          0.44782229060367135,
          0.4519046339444587,
          0.4427792361762187,
          0.4435484845507216,
          0.45455979503614846,
          0.47141563339576137,
          0.4615219240205882,
          0.45669928884814853,
          0.4503137950963178,
          0.46610019216774456,
          0.4539701061523023,
          0.47461783367825644,
          0.47706952986683365,
          0.48525615203905165,
          0.45989719175426685,
          0.49154613832080246,
          0.47517273264301285,
          0.48945277760691663,
          0.4855443678418356,
          0.4793765994832545
         ]
        }
       ],
       "layout": {
        "template": {
         "data": {
          "bar": [
           {
            "error_x": {
             "color": "#2a3f5f"
            },
            "error_y": {
             "color": "#2a3f5f"
            },
            "marker": {
             "line": {
              "color": "#E5ECF6",
              "width": 0.5
             },
             "pattern": {
              "fillmode": "overlay",
              "size": 10,
              "solidity": 0.2
             }
            },
            "type": "bar"
           }
          ],
          "barpolar": [
           {
            "marker": {
             "line": {
              "color": "#E5ECF6",
              "width": 0.5
             },
             "pattern": {
              "fillmode": "overlay",
              "size": 10,
              "solidity": 0.2
             }
            },
            "type": "barpolar"
           }
          ],
          "carpet": [
           {
            "aaxis": {
             "endlinecolor": "#2a3f5f",
             "gridcolor": "white",
             "linecolor": "white",
             "minorgridcolor": "white",
             "startlinecolor": "#2a3f5f"
            },
            "baxis": {
             "endlinecolor": "#2a3f5f",
             "gridcolor": "white",
             "linecolor": "white",
             "minorgridcolor": "white",
             "startlinecolor": "#2a3f5f"
            },
            "type": "carpet"
           }
          ],
          "choropleth": [
           {
            "colorbar": {
             "outlinewidth": 0,
             "ticks": ""
            },
            "type": "choropleth"
           }
          ],
          "contour": [
           {
            "colorbar": {
             "outlinewidth": 0,
             "ticks": ""
            },
            "colorscale": [
             [
              0,
              "#0d0887"
             ],
             [
              0.1111111111111111,
              "#46039f"
             ],
             [
              0.2222222222222222,
              "#7201a8"
             ],
             [
              0.3333333333333333,
              "#9c179e"
             ],
             [
              0.4444444444444444,
              "#bd3786"
             ],
             [
              0.5555555555555556,
              "#d8576b"
             ],
             [
              0.6666666666666666,
              "#ed7953"
             ],
             [
              0.7777777777777778,
              "#fb9f3a"
             ],
             [
              0.8888888888888888,
              "#fdca26"
             ],
             [
              1,
              "#f0f921"
             ]
            ],
            "type": "contour"
           }
          ],
          "contourcarpet": [
           {
            "colorbar": {
             "outlinewidth": 0,
             "ticks": ""
            },
            "type": "contourcarpet"
           }
          ],
          "heatmap": [
           {
            "colorbar": {
             "outlinewidth": 0,
             "ticks": ""
            },
            "colorscale": [
             [
              0,
              "#0d0887"
             ],
             [
              0.1111111111111111,
              "#46039f"
             ],
             [
              0.2222222222222222,
              "#7201a8"
             ],
             [
              0.3333333333333333,
              "#9c179e"
             ],
             [
              0.4444444444444444,
              "#bd3786"
             ],
             [
              0.5555555555555556,
              "#d8576b"
             ],
             [
              0.6666666666666666,
              "#ed7953"
             ],
             [
              0.7777777777777778,
              "#fb9f3a"
             ],
             [
              0.8888888888888888,
              "#fdca26"
             ],
             [
              1,
              "#f0f921"
             ]
            ],
            "type": "heatmap"
           }
          ],
          "heatmapgl": [
           {
            "colorbar": {
             "outlinewidth": 0,
             "ticks": ""
            },
            "colorscale": [
             [
              0,
              "#0d0887"
             ],
             [
              0.1111111111111111,
              "#46039f"
             ],
             [
              0.2222222222222222,
              "#7201a8"
             ],
             [
              0.3333333333333333,
              "#9c179e"
             ],
             [
              0.4444444444444444,
              "#bd3786"
             ],
             [
              0.5555555555555556,
              "#d8576b"
             ],
             [
              0.6666666666666666,
              "#ed7953"
             ],
             [
              0.7777777777777778,
              "#fb9f3a"
             ],
             [
              0.8888888888888888,
              "#fdca26"
             ],
             [
              1,
              "#f0f921"
             ]
            ],
            "type": "heatmapgl"
           }
          ],
          "histogram": [
           {
            "marker": {
             "pattern": {
              "fillmode": "overlay",
              "size": 10,
              "solidity": 0.2
             }
            },
            "type": "histogram"
           }
          ],
          "histogram2d": [
           {
            "colorbar": {
             "outlinewidth": 0,
             "ticks": ""
            },
            "colorscale": [
             [
              0,
              "#0d0887"
             ],
             [
              0.1111111111111111,
              "#46039f"
             ],
             [
              0.2222222222222222,
              "#7201a8"
             ],
             [
              0.3333333333333333,
              "#9c179e"
             ],
             [
              0.4444444444444444,
              "#bd3786"
             ],
             [
              0.5555555555555556,
              "#d8576b"
             ],
             [
              0.6666666666666666,
              "#ed7953"
             ],
             [
              0.7777777777777778,
              "#fb9f3a"
             ],
             [
              0.8888888888888888,
              "#fdca26"
             ],
             [
              1,
              "#f0f921"
             ]
            ],
            "type": "histogram2d"
           }
          ],
          "histogram2dcontour": [
           {
            "colorbar": {
             "outlinewidth": 0,
             "ticks": ""
            },
            "colorscale": [
             [
              0,
              "#0d0887"
             ],
             [
              0.1111111111111111,
              "#46039f"
             ],
             [
              0.2222222222222222,
              "#7201a8"
             ],
             [
              0.3333333333333333,
              "#9c179e"
             ],
             [
              0.4444444444444444,
              "#bd3786"
             ],
             [
              0.5555555555555556,
              "#d8576b"
             ],
             [
              0.6666666666666666,
              "#ed7953"
             ],
             [
              0.7777777777777778,
              "#fb9f3a"
             ],
             [
              0.8888888888888888,
              "#fdca26"
             ],
             [
              1,
              "#f0f921"
             ]
            ],
            "type": "histogram2dcontour"
           }
          ],
          "mesh3d": [
           {
            "colorbar": {
             "outlinewidth": 0,
             "ticks": ""
            },
            "type": "mesh3d"
           }
          ],
          "parcoords": [
           {
            "line": {
             "colorbar": {
              "outlinewidth": 0,
              "ticks": ""
             }
            },
            "type": "parcoords"
           }
          ],
          "pie": [
           {
            "automargin": true,
            "type": "pie"
           }
          ],
          "scatter": [
           {
            "marker": {
             "colorbar": {
              "outlinewidth": 0,
              "ticks": ""
             }
            },
            "type": "scatter"
           }
          ],
          "scatter3d": [
           {
            "line": {
             "colorbar": {
              "outlinewidth": 0,
              "ticks": ""
             }
            },
            "marker": {
             "colorbar": {
              "outlinewidth": 0,
              "ticks": ""
             }
            },
            "type": "scatter3d"
           }
          ],
          "scattercarpet": [
           {
            "marker": {
             "colorbar": {
              "outlinewidth": 0,
              "ticks": ""
             }
            },
            "type": "scattercarpet"
           }
          ],
          "scattergeo": [
           {
            "marker": {
             "colorbar": {
              "outlinewidth": 0,
              "ticks": ""
             }
            },
            "type": "scattergeo"
           }
          ],
          "scattergl": [
           {
            "marker": {
             "colorbar": {
              "outlinewidth": 0,
              "ticks": ""
             }
            },
            "type": "scattergl"
           }
          ],
          "scattermapbox": [
           {
            "marker": {
             "colorbar": {
              "outlinewidth": 0,
              "ticks": ""
             }
            },
            "type": "scattermapbox"
           }
          ],
          "scatterpolar": [
           {
            "marker": {
             "colorbar": {
              "outlinewidth": 0,
              "ticks": ""
             }
            },
            "type": "scatterpolar"
           }
          ],
          "scatterpolargl": [
           {
            "marker": {
             "colorbar": {
              "outlinewidth": 0,
              "ticks": ""
             }
            },
            "type": "scatterpolargl"
           }
          ],
          "scatterternary": [
           {
            "marker": {
             "colorbar": {
              "outlinewidth": 0,
              "ticks": ""
             }
            },
            "type": "scatterternary"
           }
          ],
          "surface": [
           {
            "colorbar": {
             "outlinewidth": 0,
             "ticks": ""
            },
            "colorscale": [
             [
              0,
              "#0d0887"
             ],
             [
              0.1111111111111111,
              "#46039f"
             ],
             [
              0.2222222222222222,
              "#7201a8"
             ],
             [
              0.3333333333333333,
              "#9c179e"
             ],
             [
              0.4444444444444444,
              "#bd3786"
             ],
             [
              0.5555555555555556,
              "#d8576b"
             ],
             [
              0.6666666666666666,
              "#ed7953"
             ],
             [
              0.7777777777777778,
              "#fb9f3a"
             ],
             [
              0.8888888888888888,
              "#fdca26"
             ],
             [
              1,
              "#f0f921"
             ]
            ],
            "type": "surface"
           }
          ],
          "table": [
           {
            "cells": {
             "fill": {
              "color": "#EBF0F8"
             },
             "line": {
              "color": "white"
             }
            },
            "header": {
             "fill": {
              "color": "#C8D4E3"
             },
             "line": {
              "color": "white"
             }
            },
            "type": "table"
           }
          ]
         },
         "layout": {
          "annotationdefaults": {
           "arrowcolor": "#2a3f5f",
           "arrowhead": 0,
           "arrowwidth": 1
          },
          "autotypenumbers": "strict",
          "coloraxis": {
           "colorbar": {
            "outlinewidth": 0,
            "ticks": ""
           }
          },
          "colorscale": {
           "diverging": [
            [
             0,
             "#8e0152"
            ],
            [
             0.1,
             "#c51b7d"
            ],
            [
             0.2,
             "#de77ae"
            ],
            [
             0.3,
             "#f1b6da"
            ],
            [
             0.4,
             "#fde0ef"
            ],
            [
             0.5,
             "#f7f7f7"
            ],
            [
             0.6,
             "#e6f5d0"
            ],
            [
             0.7,
             "#b8e186"
            ],
            [
             0.8,
             "#7fbc41"
            ],
            [
             0.9,
             "#4d9221"
            ],
            [
             1,
             "#276419"
            ]
           ],
           "sequential": [
            [
             0,
             "#0d0887"
            ],
            [
             0.1111111111111111,
             "#46039f"
            ],
            [
             0.2222222222222222,
             "#7201a8"
            ],
            [
             0.3333333333333333,
             "#9c179e"
            ],
            [
             0.4444444444444444,
             "#bd3786"
            ],
            [
             0.5555555555555556,
             "#d8576b"
            ],
            [
             0.6666666666666666,
             "#ed7953"
            ],
            [
             0.7777777777777778,
             "#fb9f3a"
            ],
            [
             0.8888888888888888,
             "#fdca26"
            ],
            [
             1,
             "#f0f921"
            ]
           ],
           "sequentialminus": [
            [
             0,
             "#0d0887"
            ],
            [
             0.1111111111111111,
             "#46039f"
            ],
            [
             0.2222222222222222,
             "#7201a8"
            ],
            [
             0.3333333333333333,
             "#9c179e"
            ],
            [
             0.4444444444444444,
             "#bd3786"
            ],
            [
             0.5555555555555556,
             "#d8576b"
            ],
            [
             0.6666666666666666,
             "#ed7953"
            ],
            [
             0.7777777777777778,
             "#fb9f3a"
            ],
            [
             0.8888888888888888,
             "#fdca26"
            ],
            [
             1,
             "#f0f921"
            ]
           ]
          },
          "colorway": [
           "#636efa",
           "#EF553B",
           "#00cc96",
           "#ab63fa",
           "#FFA15A",
           "#19d3f3",
           "#FF6692",
           "#B6E880",
           "#FF97FF",
           "#FECB52"
          ],
          "font": {
           "color": "#2a3f5f"
          },
          "geo": {
           "bgcolor": "white",
           "lakecolor": "white",
           "landcolor": "#E5ECF6",
           "showlakes": true,
           "showland": true,
           "subunitcolor": "white"
          },
          "hoverlabel": {
           "align": "left"
          },
          "hovermode": "closest",
          "mapbox": {
           "style": "light"
          },
          "paper_bgcolor": "white",
          "plot_bgcolor": "#E5ECF6",
          "polar": {
           "angularaxis": {
            "gridcolor": "white",
            "linecolor": "white",
            "ticks": ""
           },
           "bgcolor": "#E5ECF6",
           "radialaxis": {
            "gridcolor": "white",
            "linecolor": "white",
            "ticks": ""
           }
          },
          "scene": {
           "xaxis": {
            "backgroundcolor": "#E5ECF6",
            "gridcolor": "white",
            "gridwidth": 2,
            "linecolor": "white",
            "showbackground": true,
            "ticks": "",
            "zerolinecolor": "white"
           },
           "yaxis": {
            "backgroundcolor": "#E5ECF6",
            "gridcolor": "white",
            "gridwidth": 2,
            "linecolor": "white",
            "showbackground": true,
            "ticks": "",
            "zerolinecolor": "white"
           },
           "zaxis": {
            "backgroundcolor": "#E5ECF6",
            "gridcolor": "white",
            "gridwidth": 2,
            "linecolor": "white",
            "showbackground": true,
            "ticks": "",
            "zerolinecolor": "white"
           }
          },
          "shapedefaults": {
           "line": {
            "color": "#2a3f5f"
           }
          },
          "ternary": {
           "aaxis": {
            "gridcolor": "white",
            "linecolor": "white",
            "ticks": ""
           },
           "baxis": {
            "gridcolor": "white",
            "linecolor": "white",
            "ticks": ""
           },
           "bgcolor": "#E5ECF6",
           "caxis": {
            "gridcolor": "white",
            "linecolor": "white",
            "ticks": ""
           }
          },
          "title": {
           "x": 0.05
          },
          "xaxis": {
           "automargin": true,
           "gridcolor": "white",
           "linecolor": "white",
           "ticks": "",
           "title": {
            "standoff": 15
           },
           "zerolinecolor": "white",
           "zerolinewidth": 2
          },
          "yaxis": {
           "automargin": true,
           "gridcolor": "white",
           "linecolor": "white",
           "ticks": "",
           "title": {
            "standoff": 15
           },
           "zerolinecolor": "white",
           "zerolinewidth": 2
          }
         }
        },
        "title": {
         "text": "WNBA During the Seasons per 100 Possetions",
         "x": 0.5,
         "xanchor": "center"
        }
       }
      },
      "text/html": [
       "<div>                            <div id=\"7d56c02c-b7f8-49be-8920-836aafbdfac8\" class=\"plotly-graph-div\" style=\"height:525px; width:100%;\"></div>            <script type=\"text/javascript\">                require([\"plotly\"], function(Plotly) {                    window.PLOTLYENV=window.PLOTLYENV || {};                                    if (document.getElementById(\"7d56c02c-b7f8-49be-8920-836aafbdfac8\")) {                    Plotly.newPlot(                        \"7d56c02c-b7f8-49be-8920-836aafbdfac8\",                        [{\"name\":\"RGP\",\"x\":[1997,1998,1999,2000,2001,2002,2003,2004,2005,2006,2007,2008,2009,2010,2011,2012,2013,2014,2015,2016,2017,2018,2019,2020,2021,2022,2023,2024],\"y\":[28.3125,30.2,32.270833333333336,26.165937500000002,32.4375,32.3475,34.56423076923077,34.36346153846154,34.29615384615385,34.21357142857143,34.40076923076923,34.36107142857143,34.59615384615385,34.354166666666664,34.272083333333335,34.31458333333334,34.270833333333336,34.39375,34.27916666666666,34.51958333333334,34.29333333333333,33.983333333333334,34.08875,22.0825,32.27166666666667,36.253750000000004,40.209583333333335,14.772083333333333],\"type\":\"scatter\"},{\"name\":\"POSSETIONS_PER_GAME\",\"x\":[1997,1998,1999,2000,2001,2002,2003,2004,2005,2006,2007,2008,2009,2010,2011,2012,2013,2014,2015,2016,2017,2018,2019,2020,2021,2022,2023,2024],\"y\":[76.53050646490854,75.93519174112728,73.11360331928644,72.13068481262262,70.10376799439369,70.6224835110912,72.12195942350864,70.349942002512,70.59123044519346,77.68292510821188,79.29285846520085,78.57607342733228,79.3877562760358,79.6136564892482,78.15569162514346,78.63680242439473,77.77912377678383,77.45962775249801,77.02549654455167,79.31486503791423,80.00936074740147,80.44270112193722,80.36324985226445,81.46507788997488,80.33061556769091,80.9415433228777,81.28660366631756,81.24191783883312],\"type\":\"scatter\"},{\"name\":\"TIME/POSS\",\"x\":[1997,1998,1999,2000,2001,2002,2003,2004,2005,2006,2007,2008,2009,2010,2011,2012,2013,2014,2015,2016,2017,2018,2019,2020,2021,2022,2023,2024],\"y\":[15.682376645218719,15.805003385922793,16.418094836221623,16.642093719385606,17.122226887343633,16.999315839777125,16.84528145952009,17.06469445865572,17.007294258655243,15.449078572561168,15.137755221935775,15.280838517171123,15.124904938441224,15.08096181512004,15.35802514348196,15.263095731849061,15.43119196357275,15.494632084315874,15.581600134786013,15.130901306397185,15.001476830900792,14.919881179364937,14.935379318527339,14.731118190009441,14.939716883358338,14.826890340484077,14.76347586715748,14.772159283567548],\"type\":\"scatter\"},{\"name\":\"FGM\",\"x\":[1997,1998,1999,2000,2001,2002,2003,2004,2005,2006,2007,2008,2009,2010,2011,2012,2013,2014,2015,2016,2017,2018,2019,2020,2021,2022,2023,2024],\"y\":[32.75348400354004,33.779230386150275,34.02559098871876,34.71473219660344,33.84597549463914,34.46759466143399,34.95498183619841,34.46163793287727,34.5261056760451,35.020855948694376,34.47956874624157,34.341827777916656,35.1678764031104,36.340322220072466,36.2804862902122,35.99897731603579,35.85185984765143,36.9022234345108,35.738303317104815,36.99823348843068,37.1740473112949,37.94686176061748,36.08579877826346,37.22761779913977,36.660235041985466,36.85363980883633,36.8612157423178,36.01128127695813],\"type\":\"scatter\"},{\"name\":\"FGA\",\"x\":[1997,1998,1999,2000,2001,2002,2003,2004,2005,2006,2007,2008,2009,2010,2011,2012,2013,2014,2015,2016,2017,2018,2019,2020,2021,2022,2023,2024],\"y\":[79.15960761279051,79.77138341312994,81.07578551634258,80.28790705937686,82.33594013255224,82.04252123606992,83.20244027032467,82.04939606020909,81.25459692739493,82.50795694803583,82.11033559362589,82.31738526218719,82.33603967734327,82.51437108746451,83.3526705154087,83.89343532624126,84.70328517854064,84.4719101472903,84.14422817212255,83.78310613261748,84.20344782364506,85.18270660937807,85.07868463284275,83.42373346298344,84.41625969206511,83.3829272699521,83.64691813237285,83.46147643419177],\"type\":\"scatter\"},{\"name\":\"FG3M\",\"x\":[1997,1998,1999,2000,2001,2002,2003,2004,2005,2006,2007,2008,2009,2010,2011,2012,2013,2014,2015,2016,2017,2018,2019,2020,2021,2022,2023,2024],\"y\":[4.886338922174812,4.874660558189335,5.862449725591823,5.444727763184634,6.0784948785566115,6.303339849630245,6.422588563249276,6.042611745034478,5.6597195604339765,6.484383140355372,6.899684555014821,6.564040283893791,7.0467653334099,7.29621716811043,7.118237980298905,7.878605888793646,6.011799584483854,5.917240693192318,6.205481990949779,6.720784410368981,7.347677132856412,8.34185125536718,8.388842937624222,8.958647852779958,8.989082841666027,9.48785256439738,9.376358375201198,9.344998244020081],\"type\":\"scatter\"},{\"name\":\"FG3A\",\"x\":[1997,1998,1999,2000,2001,2002,2003,2004,2005,2006,2007,2008,2009,2010,2011,2012,2013,2014,2015,2016,2017,2018,2019,2020,2021,2022,2023,2024],\"y\":[15.579925045475678,15.504240853837544,18.275000564481005,16.815746354683675,18.13644260386074,18.506765107574445,18.89142640947908,17.278815407620208,16.795130033286583,19.36084433877173,19.822220122352043,19.691114490099,20.471547091798627,20.903972546483114,20.16553510077044,22.32037814420543,18.438248246271943,17.994823756887545,19.08967738580475,19.989782473846603,21.68348309908166,24.173669669094632,24.854451179731498,25.913425187689118,26.18237904321865,27.471941580508073,27.040644457976722,27.834474486906373],\"type\":\"scatter\"},{\"name\":\"FTM\",\"x\":[1997,1998,1999,2000,2001,2002,2003,2004,2005,2006,2007,2008,2009,2010,2011,2012,2013,2014,2015,2016,2017,2018,2019,2020,2021,2022,2023,2024],\"y\":[19.019230306110757,19.64247427894278,20.034940978629333,19.974684271816077,18.661252527401686,19.49920155050306,19.283116254763687,19.375218259167585,19.841534282878754,19.625716671739365,19.582494635382066,20.0579010181123,19.86255752939555,19.786650952096306,18.426165516673755,17.806864151198187,18.802007177132037,18.49556324661544,18.984570107056037,20.94776091748519,19.29234549843664,18.291074510850837,17.05805137857344,18.181822641640235,17.215433693037628,17.71133462033351,18.13256096539378,18.00432593045791],\"type\":\"scatter\"},{\"name\":\"FTA\",\"x\":[1997,1998,1999,2000,2001,2002,2003,2004,2005,2006,2007,2008,2009,2010,2011,2012,2013,2014,2015,2016,2017,2018,2019,2020,2021,2022,2023,2024],\"y\":[26.66745880889347,27.374886420886394,27.37962919076224,27.176427465138673,25.209468191368046,26.23134297663005,25.96827812108702,26.148469474529044,26.795021692477494,26.261156011345342,25.28818668525173,26.624137429469776,25.5196936441579,25.551636203873496,23.902422239407993,23.343897055908727,24.06679372460577,23.72114489591328,23.864312307409975,26.247335436796035,24.18888644755727,23.041934963575173,21.398698140826678,22.529538429106083,21.29332962911236,22.317749467089257,22.674127295469546,22.582135882785817],\"type\":\"scatter\"},{\"name\":\"OREB\",\"x\":[1997,1998,1999,2000,2001,2002,2003,2004,2005,2006,2007,2008,2009,2010,2011,2012,2013,2014,2015,2016,2017,2018,2019,2020,2021,2022,2023,2024],\"y\":[14.283886385080114,13.565273661519836,13.673557419677778,13.541988555418428,13.893174099382486,13.744509774493682,13.818914079321425,13.45020372709025,12.98870315858267,12.979125006897368,13.009678954098176,12.977270349641275,12.236283334604634,12.245795537281777,12.037130397401336,12.779937690191554,12.479774425095579,11.822682788647356,11.293540581457856,11.290040099695595,10.921549467289964,11.014080459382269,11.217702957426738,10.098212689802466,10.029640645807257,10.00403468622176,9.799849435944234,10.301203738367233],\"type\":\"scatter\"},{\"name\":\"DREB\",\"x\":[1997,1998,1999,2000,2001,2002,2003,2004,2005,2006,2007,2008,2009,2010,2011,2012,2013,2014,2015,2016,2017,2018,2019,2020,2021,2022,2023,2024],\"y\":[27.87477540082491,28.467534403691086,28.60817870843212,28.013454547919363,29.616294413179823,29.001601937546127,29.806241534524823,29.37525525761241,29.30221332511786,29.909733218563623,29.555000825242377,29.426882879316718,29.510327018848383,29.63772527876183,30.265105680080612,29.991785136011543,31.41509832919608,31.037715701514305,31.905840286898677,30.637857428568328,31.01973956420112,31.649908190029066,31.93005585853074,31.583840129091517,32.879999738980864,32.00242168893811,32.214865874841486,31.907192334808474],\"type\":\"scatter\"},{\"name\":\"REB\",\"x\":[1997,1998,1999,2000,2001,2002,2003,2004,2005,2006,2007,2008,2009,2010,2011,2012,2013,2014,2015,2016,2017,2018,2019,2020,2021,2022,2023,2024],\"y\":[42.158661785905025,42.03280806521093,42.281736128109905,41.55544310333779,43.50946851256229,42.74611171203981,43.625155613846246,42.79667924189626,42.290916483700535,42.89414340409322,42.56467977934055,42.39944684138981,41.746610353453015,41.88352081604361,42.30223607748195,42.771722826203096,43.89487275429167,42.86039849016166,43.19938086835654,41.92789752826393,41.944239259956774,42.66398864941133,43.14775881595748,41.682052818893986,42.909640384788126,42.00645637515986,42.014715310785725,42.20839607317571],\"type\":\"scatter\"},{\"name\":\"AST\",\"x\":[1997,1998,1999,2000,2001,2002,2003,2004,2005,2006,2007,2008,2009,2010,2011,2012,2013,2014,2015,2016,2017,2018,2019,2020,2021,2022,2023,2024],\"y\":[20.618203650763505,21.022258792221606,21.69529076971838,22.128633896470614,21.206313327508575,21.2168901986043,21.324918890667497,21.57942262898217,21.096442411054376,20.46083092551618,20.542002223282502,20.1008415653261,20.38010411689266,21.746480251110956,21.408168071267223,21.28406819161862,20.401841660724962,21.803990909331002,21.054108309487898,21.918049750170766,22.230152073108826,23.75399372180141,23.331099530894438,23.37630119876295,23.312399080101358,24.81160230631154,24.292356285864802,24.692198711176435],\"type\":\"scatter\"},{\"name\":\"STL\",\"x\":[1997,1998,1999,2000,2001,2002,2003,2004,2005,2006,2007,2008,2009,2010,2011,2012,2013,2014,2015,2016,2017,2018,2019,2020,2021,2022,2023,2024],\"y\":[12.639282133027326,11.491813765519623,10.631114607592211,11.365842977071068,11.358466855192363,10.940667419331412,10.40514111914391,10.946884700112168,10.467702869943192,10.20753918831108,10.019792991530315,10.170390576032483,10.174138535105666,10.294286232873487,9.995511188633198,10.542388843745877,9.841264863860964,9.686817034161008,9.239028855095484,9.118420315699462,8.715139034164839,8.583636854344864,9.252260262980728,9.477528585068667,8.653278652036816,9.175550688429519,8.67745767342956,9.606774526350828],\"type\":\"scatter\"},{\"name\":\"BLK\",\"x\":[1997,1998,1999,2000,2001,2002,2003,2004,2005,2006,2007,2008,2009,2010,2011,2012,2013,2014,2015,2016,2017,2018,2019,2020,2021,2022,2023,2024],\"y\":[4.519573083462772,4.536817999134638,4.645872666649773,4.848003588728357,5.292638217885217,5.07819251281472,5.160394272854252,5.253309044065175,5.017094219336228,4.397000355890832,4.551729225904859,4.704021670146722,4.6172449679501115,4.622507301183863,4.992217981687359,4.872447636031821,5.226382689586392,4.724440530488306,5.546792375534426,5.002455443061662,4.807623124898012,4.607438624920122,5.177912919276889,4.262981038799841,5.107289187410888,4.560270453619967,4.769963737481139,5.2718630234279065],\"type\":\"scatter\"},{\"name\":\"TOV\",\"x\":[1997,1998,1999,2000,2001,2002,2003,2004,2005,2006,2007,2008,2009,2010,2011,2012,2013,2014,2015,2016,2017,2018,2019,2020,2021,2022,2023,2024],\"y\":[23.390596896376476,21.748940223199874,20.55073505939982,21.296453411380554,20.46506796262831,20.160197628706534,19.19043143571847,19.895481098088396,19.944296686497633,18.916259413869604,19.772541218961543,18.945264618487386,18.671578453831884,18.488704520112922,18.16739409665311,18.615187659350457,17.1871000077284,16.913468887155222,16.64901499407492,15.958106374887857,16.07499160671969,15.692922466031114,16.723591142620247,16.76148231801237,16.244315916932727,16.801297650750385,16.176315293564773,16.903587515749688],\"type\":\"scatter\"},{\"name\":\"PF\",\"x\":[1997,1998,1999,2000,2001,2002,2003,2004,2005,2006,2007,2008,2009,2010,2011,2012,2013,2014,2015,2016,2017,2018,2019,2020,2021,2022,2023,2024],\"y\":[25.37031903498567,26.50245639118714,27.779512192212767,28.2585738922135,26.460148142972038,27.025689998985317,25.876908151206393,26.794569335830882,27.715188428916274,25.147017834688487,24.476348400705845,26.358950576608063,24.375931098569083,23.878661129045625,23.21001017199927,22.448280173814254,22.69011759361872,23.28097794833447,23.807059840122964,24.3898754760465,23.35003002775349,22.528405820622243,21.68303391633781,21.93595017632587,21.569780357746993,21.725154437755112,21.882335155987608,21.930837712773826],\"type\":\"scatter\"},{\"name\":\"PTS\",\"x\":[1997,1998,1999,2000,2001,2002,2003,2004,2005,2006,2007,2008,2009,2010,2011,2012,2013,2014,2015,2016,2017,2018,2019,2020,2021,2022,2023,2024],\"y\":[89.41253723536566,92.07559560943267,93.94857268165867,94.8488764282076,92.4316983952366,94.7377307230013,95.61566849040979,94.34110586995659,94.55346519540292,96.15181170948348,95.44131668288004,95.30559685783942,97.24507566902624,99.76351256035167,98.10537607739707,97.68342467206342,96.51752645691874,98.21725080882935,96.66665873221545,101.66501230471555,100.98811725388286,102.52664928745297,97.61849187272458,101.59570609269974,99.52498661867459,100.90646680240354,101.23135082523059,99.37188672839424],\"type\":\"scatter\"},{\"name\":\"Number_of_teams\",\"x\":[1997,1998,1999,2000,2001,2002,2003,2004,2005,2006,2007,2008,2009,2010,2011,2012,2013,2014,2015,2016,2017,2018,2019,2020,2021,2022,2023,2024],\"y\":[8,10,12,16,16,16,13,13,13,14,13,14,13,12,12,12,12,12,12,12,12,12,12,12,12,12,12,12],\"type\":\"scatter\"},{\"name\":\"FG%\",\"x\":[1997,1998,1999,2000,2001,2002,2003,2004,2005,2006,2007,2008,2009,2010,2011,2012,2013,2014,2015,2016,2017,2018,2019,2020,2021,2022,2023,2024],\"y\":[0.41376511318441367,0.4234504773624171,0.41967636541566616,0.4323780936390606,0.41107170744817717,0.42011866702946166,0.42011967104125425,0.42001086647351793,0.4249126447196078,0.4244542859151244,0.41991752313478753,0.4171880298254773,0.427126159345598,0.440412036608169,0.435264833938408,0.42910362623779186,0.42326410093872496,0.4368579255537831,0.4247267351956662,0.44159539072074283,0.4414789212569049,0.4454761215164273,0.42414617637768853,0.4462473237985485,0.4342793103569765,0.4419806429860962,0.4406763161792073,0.43147189356699833],\"type\":\"scatter\"},{\"name\":\"FG3%\",\"x\":[1997,1998,1999,2000,2001,2002,2003,2004,2005,2006,2007,2008,2009,2010,2011,2012,2013,2014,2015,2016,2017,2018,2019,2020,2021,2022,2023,2024],\"y\":[0.3136304512320987,0.3144082063832735,0.32079067275029177,0.32378745779952367,0.3351536467941442,0.3405965231087531,0.33997372268441506,0.3497121534367222,0.33698575415712007,0.3349225388569364,0.3480782935729061,0.3333503691319398,0.3442224127864277,0.3490349574410413,0.3529902848958839,0.35297815466621035,0.3260504742200436,0.32883015544553396,0.32507002950003905,0.3362109827439113,0.338860555717988,0.34508005485125026,0.3375187356567029,0.3457145393900305,0.3433256705522426,0.3453651987644446,0.3467505513699125,0.3357346749411801],\"type\":\"scatter\"},{\"name\":\"FT%\",\"x\":[1997,1998,1999,2000,2001,2002,2003,2004,2005,2006,2007,2008,2009,2010,2011,2012,2013,2014,2015,2016,2017,2018,2019,2020,2021,2022,2023,2024],\"y\":[0.7131999506367639,0.7175362840576404,0.7317462497041058,0.7350003710914235,0.7402477666621888,0.7433550606949568,0.7425642995984866,0.740969496438053,0.7404933091899351,0.7473287414788848,0.7743732233202284,0.7533728020766063,0.7783227262190346,0.7743790180096862,0.7708911394885528,0.7628059748786021,0.7812427111098292,0.7797078651883235,0.7955213568488727,0.7980909516673684,0.7975706339464373,0.7938167753604667,0.7971536990854738,0.807021533035537,0.8084895125795916,0.7935985949860863,0.7997027064859424,0.7972817993794141],\"type\":\"scatter\"},{\"name\":\"FG3A%\",\"x\":[1997,1998,1999,2000,2001,2002,2003,2004,2005,2006,2007,2008,2009,2010,2011,2012,2013,2014,2015,2016,2017,2018,2019,2020,2021,2022,2023,2024],\"y\":[0.19681660275130386,0.1943584301846974,0.22540639536322818,0.2094430776760391,0.22027370519681888,0.2255752849711055,0.22705375404977124,0.21059040330949846,0.20669759826996467,0.2346542691750972,0.24140956164708227,0.23920966910430028,0.24863409962419972,0.25333735531141705,0.24193028221024554,0.26605631367230204,0.2176804383372751,0.21302730961701574,0.22686853038518057,0.2385896560364502,0.2575130075967358,0.2837861184658961,0.2921348782834495,0.3106241367055019,0.31015800911728525,0.3294672240465689,0.323271258065771,0.33350086382492256],\"type\":\"scatter\"},{\"name\":\"PTS/FGA\",\"x\":[1997,1998,1999,2000,2001,2002,2003,2004,2005,2006,2007,2008,2009,2010,2011,2012,2013,2014,2015,2016,2017,2018,2019,2020,2021,2022,2023,2024],\"y\":[1.129522239078387,1.1542434350496362,1.1587747449294994,1.1813594338442797,1.1226166634695764,1.1547393875232341,1.1491930787096454,1.1498086567356043,1.1636691186824937,1.1653641087009423,1.162354483060827,1.1577821204388816,1.1810754567514807,1.2090440882667968,1.1769913965655265,1.1643750704950422,1.139477958304399,1.1627208457530065,1.1488210282763238,1.2134309289487717,1.1993347049801506,1.203608729617021,1.1473907041933875,1.2178273720844623,1.178978871863351,1.2101574039937337,1.2102221227688275,1.1906317857526474],\"type\":\"scatter\"},{\"name\":\"FG3M/FGM\",\"x\":[1997,1998,1999,2000,2001,2002,2003,2004,2005,2006,2007,2008,2009,2010,2011,2012,2013,2014,2015,2016,2017,2018,2019,2020,2021,2022,2023,2024],\"y\":[0.14918531786257275,0.14430940262593966,0.1722953093609903,0.15684199239530233,0.1795928404994379,0.18287727680292964,0.18373886141168644,0.17534313826881903,0.16392580192908357,0.18515775713349228,0.20010936348404643,0.19113834960510648,0.20037505968903638,0.20077469660080194,0.19620018109347317,0.21885638082513278,0.16768445514487507,0.1603491644261885,0.17363672628464583,0.18165149459015564,0.19765609785039215,0.219829805900435,0.23246937082288732,0.24064520864901992,0.2451998147685414,0.2574468251606045,0.25436921128016005,0.25950196473568665],\"type\":\"scatter\"},{\"name\":\"FTA/FGA\",\"x\":[1997,1998,1999,2000,2001,2002,2003,2004,2005,2006,2007,2008,2009,2010,2011,2012,2013,2014,2015,2016,2017,2018,2019,2020,2021,2022,2023,2024],\"y\":[0.3368821500396697,0.34316675040112987,0.33770414947436167,0.3384871826966465,0.30617817870037606,0.31972863073224844,0.31210957318939325,0.3186917970162864,0.32976622499795544,0.3182863445265628,0.3079781187402042,0.3234327395685596,0.3099456051586151,0.3096628607492989,0.28676252472306035,0.278256540158714,0.28413058211233383,0.28081695861442774,0.2836119936663268,0.3132771825772371,0.28726717340860264,0.270500150567397,0.2515165606188296,0.27006149801606316,0.2522420408910142,0.2676537055941389,0.2710694882934875,0.2705695711073542],\"type\":\"scatter\"},{\"name\":\"TRU%\",\"x\":[1997,1998,1999,2000,2001,2002,2003,2004,2005,2006,2007,2008,2009,2010,2011,2012,2013,2014,2015,2016,2017,2018,2019,2020,2021,2022,2023,2024],\"y\":[0.4918544467822237,0.5014118521258905,0.5044336624495014,0.5141109338251695,0.49466751611094895,0.5061624568838918,0.5052161136860074,0.5042027982065277,0.5081093468190946,0.5111039893548094,0.5118202842841707,0.5067721150728554,0.5196675166824034,0.5320318254225855,0.5225612638512073,0.5186836084631982,0.5064267901338717,0.5174273749162577,0.5106827792325164,0.5332159347474759,0.5323762903570051,0.5377958652925955,0.516532141516084,0.5442429024887174,0.530600000087396,0.541327808667251,0.5406298306966357,0.5319829924327873],\"type\":\"scatter\"},{\"name\":\"AST_TOV\",\"x\":[1997,1998,1999,2000,2001,2002,2003,2004,2005,2006,2007,2008,2009,2010,2011,2012,2013,2014,2015,2016,2017,2018,2019,2020,2021,2022,2023,2024],\"y\":[0.881474027452354,0.9665877314701014,1.0556941494798282,1.0390760127526846,1.0362200294782244,1.052414792223719,1.1112266528295025,1.0846393973883632,1.0577681801803895,1.0816531153360098,1.0389156353652236,1.0609955558874098,1.0915040829186107,1.1762035694525848,1.1783840851017344,1.143371132276906,1.1870438672929704,1.2891495561794448,1.264585821862775,1.3734743481007026,1.3829028727962849,1.5136755931356498,1.395101048089778,1.3946440270167577,1.4351111613017211,1.4767670225283698,1.5017237142706248,1.4607667566526819],\"type\":\"scatter\"},{\"name\":\"eFG%\",\"x\":[1997,1998,1999,2000,2001,2002,2003,2004,2005,2006,2007,2008,2009,2010,2011,2012,2013,2014,2015,2016,2017,2018,2019,2020,2021,2022,2023,2024],\"y\":[0.44462895314984374,0.45400442007733677,0.4558305000210603,0.466285614476277,0.4479844752429632,0.458533745909674,0.45871582604814043,0.45683387819075416,0.4597397177373425,0.4637497877079957,0.4619322372699373,0.45705834557340114,0.46991887418240946,0.48462383312284224,0.477964353559576,0.4760596595564636,0.45875150601287273,0.4718828272215366,0.46160081512813683,0.48170362208501616,0.4851094216863251,0.49444058617954467,0.47344667375741584,0.4999409639708327,0.4875219135856467,0.4988738996457028,0.49672355966738296,0.4874557956214299],\"type\":\"scatter\"},{\"name\":\"ISO%\",\"x\":[1997,1998,1999,2000,2001,2002,2003,2004,2005,2006,2007,2008,2009,2010,2011,2012,2013,2014,2015,2016,2017,2018,2019,2020,2021,2022,2023,2024],\"y\":[0.37050349671091287,0.3776572600410434,0.3623831316578311,0.36255783938797825,0.3734465318966079,0.384439488539535,0.389931913264964,0.3738132043806641,0.38897127266538173,0.41575297429933356,0.4042268227173904,0.4146834089520463,0.42049090814337153,0.40158812793631876,0.40992609911508415,0.408759087660593,0.4309404938148157,0.4091415399934953,0.4108811455687901,0.40759199335761465,0.40199806905732177,0.37401954681654076,0.3534548126741733,0.37207098974506203,0.3640957551580719,0.32675300363785215,0.34097788701048093,0.31432046193325053],\"type\":\"scatter\"},{\"name\":\"FG2%\",\"x\":[1997,1998,1999,2000,2001,2002,2003,2004,2005,2006,2007,2008,2009,2010,2011,2012,2013,2014,2015,2016,2017,2018,2019,2020,2021,2022,2023,2024],\"y\":[0.43830267714628734,0.4497565735289039,0.4484520581186161,0.4611471251088914,0.4325186595685258,0.44328196480174126,0.44366262573136755,0.43876441899254276,0.44782229060367135,0.4519046339444587,0.4427792361762187,0.4435484845507216,0.45455979503614846,0.47141563339576137,0.4615219240205882,0.45669928884814853,0.4503137950963178,0.46610019216774456,0.4539701061523023,0.47461783367825644,0.47706952986683365,0.48525615203905165,0.45989719175426685,0.49154613832080246,0.47517273264301285,0.48945277760691663,0.4855443678418356,0.4793765994832545],\"type\":\"scatter\"}],                        {\"template\":{\"data\":{\"bar\":[{\"error_x\":{\"color\":\"#2a3f5f\"},\"error_y\":{\"color\":\"#2a3f5f\"},\"marker\":{\"line\":{\"color\":\"#E5ECF6\",\"width\":0.5},\"pattern\":{\"fillmode\":\"overlay\",\"size\":10,\"solidity\":0.2}},\"type\":\"bar\"}],\"barpolar\":[{\"marker\":{\"line\":{\"color\":\"#E5ECF6\",\"width\":0.5},\"pattern\":{\"fillmode\":\"overlay\",\"size\":10,\"solidity\":0.2}},\"type\":\"barpolar\"}],\"carpet\":[{\"aaxis\":{\"endlinecolor\":\"#2a3f5f\",\"gridcolor\":\"white\",\"linecolor\":\"white\",\"minorgridcolor\":\"white\",\"startlinecolor\":\"#2a3f5f\"},\"baxis\":{\"endlinecolor\":\"#2a3f5f\",\"gridcolor\":\"white\",\"linecolor\":\"white\",\"minorgridcolor\":\"white\",\"startlinecolor\":\"#2a3f5f\"},\"type\":\"carpet\"}],\"choropleth\":[{\"colorbar\":{\"outlinewidth\":0,\"ticks\":\"\"},\"type\":\"choropleth\"}],\"contour\":[{\"colorbar\":{\"outlinewidth\":0,\"ticks\":\"\"},\"colorscale\":[[0.0,\"#0d0887\"],[0.1111111111111111,\"#46039f\"],[0.2222222222222222,\"#7201a8\"],[0.3333333333333333,\"#9c179e\"],[0.4444444444444444,\"#bd3786\"],[0.5555555555555556,\"#d8576b\"],[0.6666666666666666,\"#ed7953\"],[0.7777777777777778,\"#fb9f3a\"],[0.8888888888888888,\"#fdca26\"],[1.0,\"#f0f921\"]],\"type\":\"contour\"}],\"contourcarpet\":[{\"colorbar\":{\"outlinewidth\":0,\"ticks\":\"\"},\"type\":\"contourcarpet\"}],\"heatmap\":[{\"colorbar\":{\"outlinewidth\":0,\"ticks\":\"\"},\"colorscale\":[[0.0,\"#0d0887\"],[0.1111111111111111,\"#46039f\"],[0.2222222222222222,\"#7201a8\"],[0.3333333333333333,\"#9c179e\"],[0.4444444444444444,\"#bd3786\"],[0.5555555555555556,\"#d8576b\"],[0.6666666666666666,\"#ed7953\"],[0.7777777777777778,\"#fb9f3a\"],[0.8888888888888888,\"#fdca26\"],[1.0,\"#f0f921\"]],\"type\":\"heatmap\"}],\"heatmapgl\":[{\"colorbar\":{\"outlinewidth\":0,\"ticks\":\"\"},\"colorscale\":[[0.0,\"#0d0887\"],[0.1111111111111111,\"#46039f\"],[0.2222222222222222,\"#7201a8\"],[0.3333333333333333,\"#9c179e\"],[0.4444444444444444,\"#bd3786\"],[0.5555555555555556,\"#d8576b\"],[0.6666666666666666,\"#ed7953\"],[0.7777777777777778,\"#fb9f3a\"],[0.8888888888888888,\"#fdca26\"],[1.0,\"#f0f921\"]],\"type\":\"heatmapgl\"}],\"histogram\":[{\"marker\":{\"pattern\":{\"fillmode\":\"overlay\",\"size\":10,\"solidity\":0.2}},\"type\":\"histogram\"}],\"histogram2d\":[{\"colorbar\":{\"outlinewidth\":0,\"ticks\":\"\"},\"colorscale\":[[0.0,\"#0d0887\"],[0.1111111111111111,\"#46039f\"],[0.2222222222222222,\"#7201a8\"],[0.3333333333333333,\"#9c179e\"],[0.4444444444444444,\"#bd3786\"],[0.5555555555555556,\"#d8576b\"],[0.6666666666666666,\"#ed7953\"],[0.7777777777777778,\"#fb9f3a\"],[0.8888888888888888,\"#fdca26\"],[1.0,\"#f0f921\"]],\"type\":\"histogram2d\"}],\"histogram2dcontour\":[{\"colorbar\":{\"outlinewidth\":0,\"ticks\":\"\"},\"colorscale\":[[0.0,\"#0d0887\"],[0.1111111111111111,\"#46039f\"],[0.2222222222222222,\"#7201a8\"],[0.3333333333333333,\"#9c179e\"],[0.4444444444444444,\"#bd3786\"],[0.5555555555555556,\"#d8576b\"],[0.6666666666666666,\"#ed7953\"],[0.7777777777777778,\"#fb9f3a\"],[0.8888888888888888,\"#fdca26\"],[1.0,\"#f0f921\"]],\"type\":\"histogram2dcontour\"}],\"mesh3d\":[{\"colorbar\":{\"outlinewidth\":0,\"ticks\":\"\"},\"type\":\"mesh3d\"}],\"parcoords\":[{\"line\":{\"colorbar\":{\"outlinewidth\":0,\"ticks\":\"\"}},\"type\":\"parcoords\"}],\"pie\":[{\"automargin\":true,\"type\":\"pie\"}],\"scatter\":[{\"marker\":{\"colorbar\":{\"outlinewidth\":0,\"ticks\":\"\"}},\"type\":\"scatter\"}],\"scatter3d\":[{\"line\":{\"colorbar\":{\"outlinewidth\":0,\"ticks\":\"\"}},\"marker\":{\"colorbar\":{\"outlinewidth\":0,\"ticks\":\"\"}},\"type\":\"scatter3d\"}],\"scattercarpet\":[{\"marker\":{\"colorbar\":{\"outlinewidth\":0,\"ticks\":\"\"}},\"type\":\"scattercarpet\"}],\"scattergeo\":[{\"marker\":{\"colorbar\":{\"outlinewidth\":0,\"ticks\":\"\"}},\"type\":\"scattergeo\"}],\"scattergl\":[{\"marker\":{\"colorbar\":{\"outlinewidth\":0,\"ticks\":\"\"}},\"type\":\"scattergl\"}],\"scattermapbox\":[{\"marker\":{\"colorbar\":{\"outlinewidth\":0,\"ticks\":\"\"}},\"type\":\"scattermapbox\"}],\"scatterpolar\":[{\"marker\":{\"colorbar\":{\"outlinewidth\":0,\"ticks\":\"\"}},\"type\":\"scatterpolar\"}],\"scatterpolargl\":[{\"marker\":{\"colorbar\":{\"outlinewidth\":0,\"ticks\":\"\"}},\"type\":\"scatterpolargl\"}],\"scatterternary\":[{\"marker\":{\"colorbar\":{\"outlinewidth\":0,\"ticks\":\"\"}},\"type\":\"scatterternary\"}],\"surface\":[{\"colorbar\":{\"outlinewidth\":0,\"ticks\":\"\"},\"colorscale\":[[0.0,\"#0d0887\"],[0.1111111111111111,\"#46039f\"],[0.2222222222222222,\"#7201a8\"],[0.3333333333333333,\"#9c179e\"],[0.4444444444444444,\"#bd3786\"],[0.5555555555555556,\"#d8576b\"],[0.6666666666666666,\"#ed7953\"],[0.7777777777777778,\"#fb9f3a\"],[0.8888888888888888,\"#fdca26\"],[1.0,\"#f0f921\"]],\"type\":\"surface\"}],\"table\":[{\"cells\":{\"fill\":{\"color\":\"#EBF0F8\"},\"line\":{\"color\":\"white\"}},\"header\":{\"fill\":{\"color\":\"#C8D4E3\"},\"line\":{\"color\":\"white\"}},\"type\":\"table\"}]},\"layout\":{\"annotationdefaults\":{\"arrowcolor\":\"#2a3f5f\",\"arrowhead\":0,\"arrowwidth\":1},\"autotypenumbers\":\"strict\",\"coloraxis\":{\"colorbar\":{\"outlinewidth\":0,\"ticks\":\"\"}},\"colorscale\":{\"diverging\":[[0,\"#8e0152\"],[0.1,\"#c51b7d\"],[0.2,\"#de77ae\"],[0.3,\"#f1b6da\"],[0.4,\"#fde0ef\"],[0.5,\"#f7f7f7\"],[0.6,\"#e6f5d0\"],[0.7,\"#b8e186\"],[0.8,\"#7fbc41\"],[0.9,\"#4d9221\"],[1,\"#276419\"]],\"sequential\":[[0.0,\"#0d0887\"],[0.1111111111111111,\"#46039f\"],[0.2222222222222222,\"#7201a8\"],[0.3333333333333333,\"#9c179e\"],[0.4444444444444444,\"#bd3786\"],[0.5555555555555556,\"#d8576b\"],[0.6666666666666666,\"#ed7953\"],[0.7777777777777778,\"#fb9f3a\"],[0.8888888888888888,\"#fdca26\"],[1.0,\"#f0f921\"]],\"sequentialminus\":[[0.0,\"#0d0887\"],[0.1111111111111111,\"#46039f\"],[0.2222222222222222,\"#7201a8\"],[0.3333333333333333,\"#9c179e\"],[0.4444444444444444,\"#bd3786\"],[0.5555555555555556,\"#d8576b\"],[0.6666666666666666,\"#ed7953\"],[0.7777777777777778,\"#fb9f3a\"],[0.8888888888888888,\"#fdca26\"],[1.0,\"#f0f921\"]]},\"colorway\":[\"#636efa\",\"#EF553B\",\"#00cc96\",\"#ab63fa\",\"#FFA15A\",\"#19d3f3\",\"#FF6692\",\"#B6E880\",\"#FF97FF\",\"#FECB52\"],\"font\":{\"color\":\"#2a3f5f\"},\"geo\":{\"bgcolor\":\"white\",\"lakecolor\":\"white\",\"landcolor\":\"#E5ECF6\",\"showlakes\":true,\"showland\":true,\"subunitcolor\":\"white\"},\"hoverlabel\":{\"align\":\"left\"},\"hovermode\":\"closest\",\"mapbox\":{\"style\":\"light\"},\"paper_bgcolor\":\"white\",\"plot_bgcolor\":\"#E5ECF6\",\"polar\":{\"angularaxis\":{\"gridcolor\":\"white\",\"linecolor\":\"white\",\"ticks\":\"\"},\"bgcolor\":\"#E5ECF6\",\"radialaxis\":{\"gridcolor\":\"white\",\"linecolor\":\"white\",\"ticks\":\"\"}},\"scene\":{\"xaxis\":{\"backgroundcolor\":\"#E5ECF6\",\"gridcolor\":\"white\",\"gridwidth\":2,\"linecolor\":\"white\",\"showbackground\":true,\"ticks\":\"\",\"zerolinecolor\":\"white\"},\"yaxis\":{\"backgroundcolor\":\"#E5ECF6\",\"gridcolor\":\"white\",\"gridwidth\":2,\"linecolor\":\"white\",\"showbackground\":true,\"ticks\":\"\",\"zerolinecolor\":\"white\"},\"zaxis\":{\"backgroundcolor\":\"#E5ECF6\",\"gridcolor\":\"white\",\"gridwidth\":2,\"linecolor\":\"white\",\"showbackground\":true,\"ticks\":\"\",\"zerolinecolor\":\"white\"}},\"shapedefaults\":{\"line\":{\"color\":\"#2a3f5f\"}},\"ternary\":{\"aaxis\":{\"gridcolor\":\"white\",\"linecolor\":\"white\",\"ticks\":\"\"},\"baxis\":{\"gridcolor\":\"white\",\"linecolor\":\"white\",\"ticks\":\"\"},\"bgcolor\":\"#E5ECF6\",\"caxis\":{\"gridcolor\":\"white\",\"linecolor\":\"white\",\"ticks\":\"\"}},\"title\":{\"x\":0.05},\"xaxis\":{\"automargin\":true,\"gridcolor\":\"white\",\"linecolor\":\"white\",\"ticks\":\"\",\"title\":{\"standoff\":15},\"zerolinecolor\":\"white\",\"zerolinewidth\":2},\"yaxis\":{\"automargin\":true,\"gridcolor\":\"white\",\"linecolor\":\"white\",\"ticks\":\"\",\"title\":{\"standoff\":15},\"zerolinecolor\":\"white\",\"zerolinewidth\":2}}},\"title\":{\"text\":\"WNBA During the Seasons per 100 Possetions\",\"x\":0.5,\"xanchor\":\"center\"}},                        {\"responsive\": true}                    ).then(function(){\n",
       "                            \n",
       "var gd = document.getElementById('7d56c02c-b7f8-49be-8920-836aafbdfac8');\n",
       "var x = new MutationObserver(function (mutations, observer) {{\n",
       "        var display = window.getComputedStyle(gd).display;\n",
       "        if (!display || display === 'none') {{\n",
       "            console.log([gd, 'removed!']);\n",
       "            Plotly.purge(gd);\n",
       "            observer.disconnect();\n",
       "        }}\n",
       "}});\n",
       "\n",
       "// Listen for the removal of the full notebook cells\n",
       "var notebookContainer = gd.closest('#notebook-container');\n",
       "if (notebookContainer) {{\n",
       "    x.observe(notebookContainer, {childList: true});\n",
       "}}\n",
       "\n",
       "// Listen for the clearing of the current output cell\n",
       "var outputEl = gd.closest('.output');\n",
       "if (outputEl) {{\n",
       "    x.observe(outputEl, {childList: true});\n",
       "}}\n",
       "\n",
       "                        })                };                });            </script>        </div>"
      ]
     },
     "metadata": {},
     "output_type": "display_data"
    }
   ],
   "source": [
    "fig = go.Figure()\n",
    "\n",
    "for col in wnba_data_per100_per_season_by_reg_season.columns[1:]:\n",
    "    fig.add_trace(go.Scatter(x=wnba_data_per100_per_season_by_reg_season['SEASON_START_YEAR'],y=wnba_data_per100_per_season_by_reg_season[col],name=col))\n",
    "\n",
    "fig.update_layout(\n",
    "            title={\n",
    "            'text' : \"WNBA During the Seasons per 100 Possetions\",\n",
    "            'x':0.5,\n",
    "            'xanchor': 'center'\n",
    "        })\n",
    "fig.show()"
   ]
  },
  {
   "cell_type": "code",
   "execution_count": 24,
   "id": "3df35ab8",
   "metadata": {},
   "outputs": [],
   "source": [
    "filepath = Path('C:/Users/vinic/Documents/Python/NBA/wnba/wnba_reg_season_season_per100_data_set.csv')  \n",
    "filepath.parent.mkdir(parents=True, exist_ok=True)  \n",
    "wnba_data_per100_per_season_by_reg_season.to_csv(filepath,index=False)"
   ]
  },
  {
   "cell_type": "code",
   "execution_count": null,
   "id": "c0d336a1",
   "metadata": {},
   "outputs": [],
   "source": []
  }
 ],
 "metadata": {
  "kernelspec": {
   "display_name": "Python 3 (ipykernel)",
   "language": "python",
   "name": "python3"
  },
  "language_info": {
   "codemirror_mode": {
    "name": "ipython",
    "version": 3
   },
   "file_extension": ".py",
   "mimetype": "text/x-python",
   "name": "python",
   "nbconvert_exporter": "python",
   "pygments_lexer": "ipython3",
   "version": "3.9.12"
  }
 },
 "nbformat": 4,
 "nbformat_minor": 5
}
